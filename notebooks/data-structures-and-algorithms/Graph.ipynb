{
 "cells": [
  {
   "cell_type": "markdown",
   "id": "820b9137",
   "metadata": {},
   "source": [
    "# Array Operaion\n",
    "Implement the Graph class which included two follwoing class\n \n",
    "Implement the Node class\n \n",
    "Implement the Edge class\n \n",
    "Implement the following functions in graph class:\n \n",
    "Insert node, delete node, insert edge, delete edge, print the full graph, BFS, and DFS\n"
   ]
  },
  {
   "cell_type": "code",
   "execution_count": null,
   "id": "12c0ac58",
   "metadata": {},
   "outputs": [],
   "source": []
  }
 ],
 "metadata": {
  "kernelspec": {
   "display_name": "Python 3",
   "language": "python",
   "name": "python3"
  },
  "language_info": {
   "codemirror_mode": {
    "name": "ipython",
    "version": 3
   },
   "file_extension": ".py",
   "mimetype": "text/x-python",
   "name": "python",
   "nbconvert_exporter": "python",
   "pygments_lexer": "ipython3",
   "version": "3.8.5"
  }
 },
 "nbformat": 4,
 "nbformat_minor": 5
}
