
{
 "cells": [
  {
   "cell_type": "markdown",
   "id": "820b9137",
   "metadata": {},
   "source": [
    "# Hash table\n",
    "Implement hash table chaining\n \n",
    "Implement hash table open address\n \n",
    "Implement string matching\n \n"
   ]
  },
  {
   "cell_type": "code",
   "execution_count": null,
   "id": "12c0ac58",
   "metadata": {},
   "outputs": [],
   "source": []
  }
 ],
 "metadata": {
  "kernelspec": {
   "display_name": "Python 3",
   "language": "python",
   "name": "python3"
  },
  "language_info": {
   "codemirror_mode": {
    "name": "ipython",
    "version": 3
   },
   "file_extension": ".py",
   "mimetype": "text/x-python",
   "name": "python",
   "nbconvert_exporter": "python",
   "pygments_lexer": "ipython3",
   "version": "3.8.5"
  }
 },
 "nbformat": 4,
 "nbformat_minor": 5
}
