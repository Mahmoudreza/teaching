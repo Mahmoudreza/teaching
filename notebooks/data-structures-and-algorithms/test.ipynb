<div style="direction:rtl;line-height:300%;"><font face="XB Zar" size=5>
<font color=#FF7500 size=6>
<p></p>
<div id="queue">Queue</div>

Queue Operations:
<ul style="margin-top:0">
<li>$enqueue(x)$</li>
<li>$dequeue()$</li>
<li>$front()$</li>
<li>$size()$</li>
<li>$is\_empty()$</li>
<li>$is\_full()$</li>
</ul>
$O(1)$ 

<p></p>
Impelementing by arrays
    <p></p>
