{
 "cells": [
  {
   "attachments": {},
   "cell_type": "markdown",
   "metadata": {},
   "source": [
    "1: Randomized quicksort. Modify partition() so that it always chooses the partitioning item uniformly at random from the array (instead of shuffling the array initially). Compare the performance against Quick.\n",
    "\n",
    "2: Antiquicksort. The algorithm for sorting primitive types in Java 6 is a variant of 3-way quicksort developed by Bentley and McIlroy. It is extremely efficient for most inputs that arise in practice, including inputs that are already sorted. However, using a clever technique described by M. D. McIlroy in A Killer Adversary for Quicksort, it is possible to construct pathological inputs that make the system sort run in quadratic time. Even worse, it overflows the function call stack. To see the sorting library in Java 6 break, here are some killer inputs of varying sizes: 10,000, 20,000, 50,000, 100,000, 250,000, 500,000, and 1,000,000. You can test them out using the program IntegerSort which takes a command line input N, reads in N integers from standard input, and sorts them using the system sort."
   ]
  },
  {
   "attachments": {},
   "cell_type": "markdown",
   "metadata": {},
   "source": [
    "3 :Bad partitioning. How does not stopping on equal keys make quicksort go quadratic when all keys are equal?\n",
    "\n",
    "Solution. Here is the result of partitioning AAAAAAAAAAAAAAA when we don't stop on equal keys. It unevenly partitions the array into one subproblem of size 0 and one of size 14.\n",
    "\n",
    "<div style=\"display: flex;\">\n",
    "    <img src=\"partition-go.png\" alt=\"Image 1\">\n",
    "</div>\n",
    "\n",
    "Here is the result of partitioning AAAAAAAAAAAAAAA when we do stop on equal keys. It evenly partitions the array into two subproblems of size 7.\n",
    "\n",
    "<div style=\"display: flex;\">\n",
    "    <img src=\"partition-stop.png\" alt=\"Image 1\">\n",
    "</div>"
   ]
  },
  {
   "attachments": {},
   "cell_type": "markdown",
   "metadata": {},
   "source": [
    "4: Three-pivot quicksort. Implement a version of three-pivot quicksort ala Kushagra-Ortiz-Qiao-Munro.\n",
    "\n",
    "5: Number of compares. Give a family of arrays of length n for which the standard quicksort partitioning algorithm makes (i) n + 1 compares, (ii) n compares, (iii) n - 1 compares, or argue that no such family of arrays exist.\n",
    "Solution: ascending order; descending order; none."
   ]
  }
 ],
 "metadata": {
  "language_info": {
   "name": "python"
  },
  "orig_nbformat": 4
 },
 "nbformat": 4,
 "nbformat_minor": 2
}
