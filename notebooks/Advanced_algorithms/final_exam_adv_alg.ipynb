{
 "cells": [
  {
   "attachments": {},
   "cell_type": "markdown",
   "metadata": {
    "id": "YixcVplokall"
   },
   "source": [
    "# Advacned Algorithms Exam\n",
    "The exam consists of 8 problems. Each of them has 10 points.\n",
    "**It is recommended to read the problems in order**, but it is not important\n",
    "that you solve them in any specific order.\n",
    "\n",
    "\n",
    "● Please read all instructions carefully. You may ask the instructor clarifying questions during the exam.\n",
    "\n",
    "● You can have two pages note.\n",
    "\n",
    "● Please silence all cell phones and place them off the table.\n",
    "\n",
    "● There are 8 questions each with multiple parts. Partial solutions will be graded for partial credit.\n",
    "\n",
    "● Explain your answer in detail for each question.\n",
    "\n",
    "● You have 150 min to work on this exam.\n",
    "\n",
    "● You can submit Jupyter Notebook or pdf version. \n"
   ]
  },
  {
   "attachments": {},
   "cell_type": "markdown",
   "metadata": {
    "id": "PRlripdJl3dg"
   },
   "source": [
    "\n",
    "## Question 1:\n",
    "\n",
    "\n",
    "a) Explain the In-Order traversal of a BST. Provide an algorithmic approach and also discuss an algorithm in which if we have the in-order list and you are asked to create the corresponding tree.\n"
   ]
  },
  {
   "attachments": {},
   "cell_type": "markdown",
   "metadata": {
    "id": "Hgf_R-YSKbc3"
   },
   "source": [
    "`Answer`:\n"
   ]
  },
  {
   "attachments": {},
   "cell_type": "markdown",
   "metadata": {
    "id": "AS1zox4b9QED"
   },
   "source": [
    "b) provide an algorithm in which when we insert or delete any element to the BST then we have balanced tree.\n"
   ]
  },
  {
   "attachments": {},
   "cell_type": "markdown",
   "metadata": {
    "id": "Eisv_KkAOuwO"
   },
   "source": [
    "`Answer`:\n"
   ]
  },
  {
   "attachments": {},
   "cell_type": "markdown",
   "metadata": {
    "id": "rW2PANQNpPzT"
   },
   "source": [
    "## Question 2:\n",
    "Implement the Max Heap data structure and provide the code for the following operations:\n",
    "\n",
    "*Insert an element into the heap.\n",
    "\n",
    "*Remove the maximum element from the heap.\n",
    "\n",
    "*Build a heap from an array of elements.\n"
   ]
  },
  {
   "attachments": {},
   "cell_type": "markdown",
   "metadata": {
    "id": "TgBgleTPPKys"
   },
   "source": [
    "`Answer`: "
   ]
  },
  {
   "attachments": {},
   "cell_type": "markdown",
   "metadata": {},
   "source": [
    "## Question 3:\n",
    "Implement the merge sort algorithm in pseudocode for an array of integers."
   ]
  },
  {
   "attachments": {},
   "cell_type": "markdown",
   "metadata": {},
   "source": [
    "`answer`:\n"
   ]
  },
  {
   "cell_type": "code",
   "execution_count": null,
   "metadata": {},
   "outputs": [],
   "source": []
  },
  {
   "attachments": {},
   "cell_type": "markdown",
   "metadata": {},
   "source": [
    "## Question 4:\n",
    "Discuss the time complexity of quicksort and explain how it varies in the best-case, average-case, and worst-case scenarios."
   ]
  },
  {
   "attachments": {},
   "cell_type": "markdown",
   "metadata": {},
   "source": [
    "## Question 5:\n",
    "Part A: You are performing Dijstra's shortest path algorithm on a\n",
    "weighted, directed graph that has the adjacency matrix to the right.\n",
    "You are at the point in Dijkstra's algorithm where you have processed\n",
    "nodes 0 and 1. At this point, the multimap is as follows:\n",
    "{ [5,2] [8,4] [14,6] [15,3] [17,5] [26,7] }\n",
    "Your job is to show me what the multimap is after the next node is\n",
    "processed in Dijkstra's algorithm. Use the same format as I used\n",
    "above to show me what the multimap is.\n",
    "\n",
    "<div style=\"display: flex;\">\n",
    "    <img src=\"short-path-fig.png\" alt=\"Image 1\">\n",
    "</div>\n",
    "Part B: Now, you are performing Prim's algorithm for minimum spanning tree, and again, you have\n",
    "processed nodes 0 and 1. At this point, the multimap is:\n",
    "{ [5,2] [5,4] [11,6] [14,5] [15,3] [26,7] }\n",
    "Your job is to show me what the multimap is after the next node is processed."
   ]
  },
  {
   "attachments": {},
   "cell_type": "markdown",
   "metadata": {
    "id": "TbTDNP1psS_5"
   },
   "source": [
    "## Question 5:  \n",
    "\n",
    "Here you see some sequences of numbers, some of which are valid preorder, inorder, or postorder traversals of a binary search tree, and some of which are not. You should mark each sequence as \"Yes\" if it could be a valid traversal of a binary search tree(and mentione which traversal method), or \"No\" if it is not valid.\n",
    "\n",
    "* 3, 5, 7, 9, 11, 10, 8, 6, 4, 2 \n",
    "\n",
    "* 8, 4, 12, 6, 5, 7, 10 \n",
    "\n",
    "* 10, 5, 3, 7, 9, 8, 12, 11, 15, 13, 18\n",
    "\n",
    "* 4, 2, 5, 1, 7, 6, 8 \n",
    "\n",
    "* 9, 4, 17, 3, 12, 22, 19, 7, 10"
   ]
  },
  {
   "attachments": {},
   "cell_type": "markdown",
   "metadata": {},
   "source": [
    "`Answer`:\n"
   ]
  },
  {
   "attachments": {},
   "cell_type": "markdown",
   "metadata": {
    "id": "W46brp6s6j09"
   },
   "source": [
    "## Question 6: \n",
    "Answer each of the following questions. Keep your answers brief.  \n",
    "\n",
    "***Example)*** Give an example of a real-world situation where a stack works better as a model than a queue. Why is a stack preferable to a queue in this situation?\n",
    "\n",
    "***Answer:*** A stack is a better model for trying to match parenthesis in an expression than a queue. The parenthesis that needs to be matched is always kept at the top of the stack. However, the first parenthesis in a queue is the only one that is stored there, therefore it cannot be used for matching. \n",
    "\n",
    "* Describe a real-world situation where a queue works better as a model than a stack. Why is a queue superior to a stack in this situation?\n",
    " "
   ]
  },
  {
   "attachments": {},
   "cell_type": "markdown",
   "metadata": {
    "id": "y8lkvYxNQpS-"
   },
   "source": [
    "`Answer`:\n",
    "\n"
   ]
  },
  {
   "attachments": {},
   "cell_type": "markdown",
   "metadata": {
    "id": "Jp67vpco-cuH"
   },
   "source": [
    "* Give an example of a real-world situation where a fixed-sized array would be a better model than a linked list. Describe why an array is preferable to a linked list in this situation.\n"
   ]
  },
  {
   "attachments": {},
   "cell_type": "markdown",
   "metadata": {
    "id": "eK7DGJ5EQrxC"
   },
   "source": [
    "`Answer`:\n",
    "\n"
   ]
  },
  {
   "attachments": {},
   "cell_type": "markdown",
   "metadata": {
    "id": "VpD5wKzU-eo1"
   },
   "source": [
    "\n",
    "* Give an example of a real-world situation where a doubly linked list would be a better model than a binary search tree. Describe the advantages of a doubly linked list over a binary search tree in this situation."
   ]
  },
  {
   "attachments": {},
   "cell_type": "markdown",
   "metadata": {
    "id": "IkM74JQsQvDc"
   },
   "source": [
    "`Answer`:\n",
    "\n"
   ]
  },
  {
   "attachments": {},
   "cell_type": "markdown",
   "metadata": {
    "id": "bPvaZp9vAbVF"
   },
   "source": [
    "## Question 7:\n",
    "Suppose you have the following hash table, implemented using linear\n",
    "probing. The hash function we are using is the identity function, h(x) = x. (module 8).\n",
    "\n",
    "|0|1|2|3|4|5|6|7|8|\n",
    "|--|--|--|--|--|--|--|--|--|\n",
    "|9|18||12|3|14|4|21||\n",
    "\n",
    "\n",
    "In which order could the elements have been added to the hash table?\n",
    "There are several correct answers, and you should give all of them.\n",
    "Assume that the hash table has never been resized, and no elements have\n",
    "been deleted yet.\n",
    "\n",
    "A 9, 14, 4, 18, 12, 3, 21\n",
    "\n",
    "B 12, 3, 14, 18, 4, 9, 21\n",
    "\n",
    "C 12, 14, 3, 9, 4, 18, 21\n",
    "\n",
    "D 9, 12, 14, 3, 4, 21, 18\n",
    "\n",
    "E 12, 9, 18, 3, 14, 21, 4"
   ]
  },
  {
   "attachments": {},
   "cell_type": "markdown",
   "metadata": {},
   "source": [
    "`Answer`:\n",
    "\n"
   ]
  },
  {
   "attachments": {},
   "cell_type": "markdown",
   "metadata": {},
   "source": [
    "If we want a hash table that stores a set of strings, one\n",
    "possible hash function is the string’s length, h(x) = x.length.\n",
    "Is this a good hash function? Explain your answer."
   ]
  },
  {
   "attachments": {},
   "cell_type": "markdown",
   "metadata": {},
   "source": [
    "`Answer`:\n",
    "\n",
    " "
   ]
  }
 ],
 "metadata": {
  "colab": {
   "provenance": []
  },
  "kernelspec": {
   "display_name": "Python 3",
   "language": "python",
   "name": "python3"
  },
  "language_info": {
   "codemirror_mode": {
    "name": "ipython",
    "version": 3
   },
   "file_extension": ".py",
   "mimetype": "text/x-python",
   "name": "python",
   "nbconvert_exporter": "python",
   "pygments_lexer": "ipython3",
   "version": "3.10.8 (main, Oct 13 2022, 10:18:28) [Clang 13.0.0 (clang-1300.0.29.30)]"
  },
  "vscode": {
   "interpreter": {
    "hash": "aee8b7b246df8f9039afb4144a1f6fd8d2ca17a180786b69acc140d282b71a49"
   }
  }
 },
 "nbformat": 4,
 "nbformat_minor": 1
}
