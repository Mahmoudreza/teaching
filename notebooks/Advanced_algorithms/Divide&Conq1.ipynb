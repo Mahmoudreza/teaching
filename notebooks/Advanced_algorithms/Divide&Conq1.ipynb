{
 "cells": [
  {
   "attachments": {},
   "cell_type": "markdown",
   "metadata": {},
   "source": [
    "1: Suppose that top-down mergesort is modified to skip the call on merge() whenever a[mid] <= a[mid+1]. Prove that the number of compares used for an array in sorted order is linear.\n",
    "Solution. Since the array is already sorted, there will be no calls to merge(). When N is a power of 2, the number of compares will satisfy the recurrence T(N) = 2 T(N/2) + 1, with T(1) = 0.\n",
    "\n",
    "2: Use of a static array like aux[] is inadvisable in library software because multiple clients might use the class concurrently. Give an implementation of Merge.java that does not use a static array."
   ]
  },
  {
   "attachments": {},
   "cell_type": "markdown",
   "metadata": {},
   "source": [
    "Faster merge. Implement a version of merge() that copies the second half of a[] to aux[] in decreasing order and then does the merge back to a[]. This change allows you to remove the code to test that each of the halves has been exhausted from the inner loop. Note: the resulting sort is not stable."
   ]
  },
  {
   "cell_type": "code",
   "execution_count": null,
   "metadata": {},
   "outputs": [],
   "source": [
    "private static void merge(Comparable[] a, int lo, int mid, int hi) { \n",
    "   for (int i = lo; i <= mid; i++)\n",
    "      aux[i] = a[i]; \n",
    "   \n",
    "   for (int j = mid+1; j <= hi; j++)\n",
    "      aux[j] = a[hi-j+mid+1];\n",
    "  \n",
    "   int i = lo, j = hi; \n",
    "   for (int k = lo; k <= hi; k++) \n",
    "      if (less(aux[j], aux[i])) a[k] = aux[j--];\n",
    "      else                      a[k] = aux[i++];\n",
    "} "
   ]
  },
  {
   "attachments": {},
   "cell_type": "markdown",
   "metadata": {},
   "source": [
    "Improvements. Write a program MergeX.ipynb that implements the three improvements to mergesort that are described in the text: add a cutoff from small subarrays, test whether the array is already in order, and avoid the copy by switching arguments in the recursive code.\n",
    "\n",
    "Inversions. Develop and implement a linearithmic algorithm Inversions.ipynb for computing the number of inversions in a given array (the number of exchanges that would be performed by insertion sort for that array). This quantity is related to the Kendall tau distance;\n",
    "\n",
    "Index sort. Develop a version of Merge.ipynb that does not rearrange the array, but returns an int[] perm such that perm[i] is the index of the ith smallest entry in the array."
   ]
  },
  {
   "attachments": {},
   "cell_type": "markdown",
   "metadata": {},
   "source": [
    "4: Merge with at most log N compares per item. Design a merging algorithm such that each item is compared at most a logarithmic number of times. (In the standard merging algorithm, an item can be compared N/2 times when merging two subarrays of size N/2.)\n",
    "reference\n",
    "\n",
    "5: Lower bound for sorting a Young tableaux. A Young tableaux is an N-by-N matrix such that the entries are sorted both column wise and row wise. Prove that Theta(N^2 log N) compares are necessary to sort the N^2 entries (where you can access the data only through the pairwise comparisons).\n",
    "Solution sketch. If entry (i, j) is within 1/2 of i + j, then all of the 2N-1 grid diagonals are independent of one another. Sorting the diagonals takes N^2 log N compares.\n",
    "\n",
    "6: Given an array a of size 2N with N items in sorted order in positions 0 through N-1, and an array b of size N with N items in ascending order, merge the array b into a so that a contains all of the items in ascending order. Use O(1) extra memory.\n",
    "Hint: merge from right to left.\n",
    "\n",
    "7: k-near-sorting. Suppose you have an array a[] of N distinct items which is nearly sorted: each item at most k positions away from its position in the sorted order. Design an algorithm to sort the array in time proportional to N log k.\n",
    "Hint: First, sort the subarray from 0 to 2k; the smallest k items will be in their correct position. Next, sort the subarray from k to 3k; the smallest 2k items will now be in their correct position.\n",
    "\n",
    "8: Find a family of inputs for which mergesort makes strictly fewer than 1/2 N lg N compares to sort an array of N distinct keys.\n",
    "Solution: a reverse-sorted array of N = 2^k + 1 keys uses approximately 1/2 N lg N - (k/2 - 1) compares.\n",
    "\n",
    "9: Worst-case input array. Write a program MergeWorstCase.ipynb that takes a command-line argument n and creates an input array of length n for which mergesort makes the maximum number of compares.\n",
    "\n",
    "10: Write a program SecureShuffle.ipynb to read in a sequence of string from standard input and securely shuffle them. Use the following algorithm: associate each card with a random real number between 0 and 1. Sort the values based on their associated real numbers. Use java.security.SecureRandom to generate the random real numbers. Use Merge.indexSort() to get the random permutation.\n",
    "\n",
    "11: Merging two arrays of different lengths. Given two sorted arrays a[] and b[] of sizes M and N where M ≥ N, devise an algorithm to merge them into a new sorted array c[] using ~ N lg M compares.\n",
    "Hint: use binary search.\n",
    "\n",
    "Note: there is a lower bound of Omega(N log (1 + M/N)) compares. This follows because there are M+N choose N possible merged outcomes. A decision tree argument shows that this requires at least lg (M+N choose N) compares. We note that n choose r >= (n/r)^r.\n",
    "\n",
    "12: Merging three arrays. Given three sorted arrays a[], b[], and c[], each of size N, design an algorithm to merge them into a new sorted array d[] using at most ~ 6 N compares in the worst case (or, even better, ~ 5 N compares).\n",
    "Merging three arrays. Given three sorted arrays a[], b[], and c[], each of size N, prove that no compare-based algorithm can merge them into a new sorted array d[] using fewer than ~ 4.754887503 N compares in the worst case.\n",
    "\n",
    "13: Arrays with N^(3/2) inversions. Prove that any compare-based algorithms that can sort arrays with N^(3/2) or fewer inversions must make ~ 1/2 N lg N compares in the worst case.\n",
    "Proof sketch: divide up the array into sqrt(N) consecutive subarrays of sqrt(N) items each, such that the there are no inversion between items in different subarrays but the order of items within each subarray is arbitrary. Such an array has at most N^(3/2) inversions—at most ~N/2 inversions in each of the sqrt(N) subarrays. By the sorting lower bound, it takes ~ sqrt(N) lg sqrt(N) compares to sort each subarray, for a total of ~ 1/2 N lg N.\n",
    "\n",
    "14: Optimal nonoblivious sorting. Design algorithms that uses the fewest number of compares (in the worst case) to sort arrays of length 3, 4, 5, 6, 7, and 8.\n",
    "Solution. It is known that the optimal solution uses 3, 5, 7, 10, 13, and 16 compares, respectively. The Ford-Johnson merge insertion algorithm is known to be optimal for n <= 13. It makes sum(ceil(log[2](3*k/4)), k=1..n) compares in the worst case."
   ]
  }
 ],
 "metadata": {
  "language_info": {
   "name": "python"
  },
  "orig_nbformat": 4
 },
 "nbformat": 4,
 "nbformat_minor": 2
}
