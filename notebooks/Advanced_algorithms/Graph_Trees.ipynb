{
 "cells": [
  {
   "attachments": {},
   "cell_type": "markdown",
   "metadata": {},
   "source": [
    "1: 1: The degree of a vertex is the number of incident edges. Add a method int degree(int v) to Graph that returns the degree of the vertex v."
   ]
  },
  {
   "attachments": {},
   "cell_type": "markdown",
   "metadata": {},
   "source": [
    "2: Generate a perfect maze like this one\n",
    "<div style=\"display: flex;\">\n",
    "    <img src=\"maze14.png\" alt=\"Image 1\" style=\"width: 25%; margin-right: 10px;\">\n",
    "    <img src=\"maze22.png\" alt=\"Image 2\" style=\"width: 25%;\">\n",
    "</div>\n",
    "\n",
    "\n",
    "Write a program Maze.java that takes a command-line argument n, and generates a random n-by-n perfect maze. A maze is perfect if it has exactly one path between every pair of points in the maze, i.e., no inaccessible locations, no cycles, and no open spaces. Here's a nice algorithm to generate such mazes. Consider an n-by-n grid of cells, each of which initially has a wall between it and its four neighboring cells. For each cell (x, y), maintain a variable north[x][y] that is true if there is wall separating (x, y) and (x, y + 1). We have analogous variables east[x][y], south[x][y], and west[x][y] for the corresponding walls. Note that if there is a wall to the north of (x, y) then north[x][y] = south[x][y+1] = true. Construct the maze by knocking down some of the walls as follows:\n",
    "\n",
    "a: Start at the lower level cell (1, 1).\n",
    "b: Find a neighbor at random that you haven't yet been to.\n",
    "c: If you find one, move there, knocking down the wall. If you don't find one, go back to the previous cell.\n",
    "d: Repeat steps ii. and iii. until you've been to every cell in the grid.\n",
    "Hint: maintain an (n+2)-by-(n+2) grid of cells to avoid tedious special cases."
   ]
  },
  {
   "attachments": {},
   "cell_type": "markdown",
   "metadata": {},
   "source": [
    "3: Write a program WordLadder.java that takes two 5 letter strings from the command line, and reads in a list of 5 letter words from standard input, and prints out a shortest word ladder connecting the two strings (if it exists). Two words can be connected in a word ladder chain if they differ in exactly one letter. As an example, the following word ladder connects green and brown.\n",
    "green greet great groat groan grown brown\n",
    "You can also try out your program on this list of 6 letter words."
   ]
  },
  {
   "attachments": {},
   "cell_type": "markdown",
   "metadata": {},
   "source": [
    "4: Biconnected components. An undirected graph is biconnected if for every pair of vertices v and w, there are two vertex-disjoint paths between v and w. (Or equivalently a simple cycle through any two vertices.) We define a cocyclicity equivalence relation on the edges: two edges e1 and e2 are are in same biconnected component if e1 = e2 or there exists a cycle containing both e1 and e2. Two biconnected components share at most one vertex in common. A vertex is an articulation point if and only if it is common to more than one biconnected component. Program Biconnected.py identifies the bridges and articulation points."
   ]
  }
 ],
 "metadata": {
  "language_info": {
   "name": "python"
  },
  "orig_nbformat": 4
 },
 "nbformat": 4,
 "nbformat_minor": 2
}
