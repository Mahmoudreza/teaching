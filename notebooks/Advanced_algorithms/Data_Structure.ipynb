{
 "cells": [
  {
   "attachments": {},
   "cell_type": "markdown",
   "metadata": {},
   "source": [
    "1: Suppose that an intermixed sequence of (stack) push and pop operations are performed. The pushes push the integers 0 through 9 in order; the pops print out the return value. Which of the following sequence(s) could not occur?\n",
    "(a)  4 3 2 1 0 9 8 7 6 5\n",
    "\n",
    "(b)  4 6 8 7 5 3 2 9 0 1\n",
    "\n",
    "(c)  2 5 6 7 4 8 9 3 1 0\n",
    "\n",
    "(d)  4 3 2 1 0 5 6 7 8 9\n",
    "\n",
    "(e)  1 2 3 4 5 6 9 8 7 0\n",
    "\n",
    "(f)  0 4 6 5 3 8 1 7 2 9\n",
    "\n",
    "(g)  1 4 7 9 8 6 5 3 0 2\n",
    "\n",
    "(h)  2 1 4 3 6 5 8 7 9 0\n",
    "Answer: (b), (f), and (g)."
   ]
  },
  {
   "attachments": {},
   "cell_type": "markdown",
   "metadata": {},
   "source": [
    "2: Write a stack client that reads in sequence of left and right parentheses, braces, and brackets from standard input and uses a stack to determine whether the sequence is properly balanced. For example, your program should print true for [()]{}{[()()]()} and false for [(])."
   ]
  },
  {
   "attachments": {},
   "cell_type": "markdown",
   "metadata": {},
   "source": [
    "3: What does the following code fragment print when n is 50? Give a high-level description of what it does when presented with a positive integer n.\n",
    "\n",
    "Stack<Integer> s = new Stack<Integer>();\n",
    "while (n > 0) {\n",
    "   s.push(n % 2);\n",
    "   n = n / 2;\n",
    "}\n",
    "while (!s.isEmpty())\n",
    "    System.out.print(s.pop());\n",
    "System.out.println();\n",
    "Answer: Prints the binary representation of N (110010 when n is 50).\n",
    "\n"
   ]
  },
  {
   "attachments": {},
   "cell_type": "markdown",
   "metadata": {},
   "source": [
    "4:Add a method peek to that returns the most recently inserted item on the stack (without popping it)."
   ]
  },
  {
   "attachments": {},
   "cell_type": "markdown",
   "metadata": {},
   "source": [
    "5: Develop a class ResizingArrayQueueOfStrings that implements the queue abstraction with a fixed-size array, and then extend your implementation to use array resizing to remove the size restriction."
   ]
  }
 ],
 "metadata": {
  "language_info": {
   "name": "python"
  },
  "orig_nbformat": 4
 },
 "nbformat": 4,
 "nbformat_minor": 2
}
