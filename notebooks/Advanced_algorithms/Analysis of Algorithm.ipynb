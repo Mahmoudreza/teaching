{
 "cells": [
  {
   "attachments": {},
   "cell_type": "markdown",
   "metadata": {},
   "source": [
    "*Analysis of Algorithms*"
   ]
  },
  {
   "attachments": {},
   "cell_type": "markdown",
   "metadata": {},
   "source": [
    "1- Local minimum in an array. Write a program that, given an array a[] of n distinct integers, finds a local minimum: an index i such that botha[i] < a[i-1] and a[i] < a[i+1] (assuming the neighboring entry is in bounds). Your program should use ~ 2 lg n compares in the worst case.\n",
    "Answer: Examine the middle value a[n/2] and its two neighbors a[n/2 - 1] and a[n/2 + 1]. If a[n/2] is a local minimum, stop; otherwise search in the half with the smaller neighbor.\n",
    "\n"
   ]
  },
  {
   "attachments": {},
   "cell_type": "markdown",
   "metadata": {},
   "source": [
    "2- Local minimum in a matrix. Given an n-by-n array a[] of n2 distinct integers, design an algorithm that runs in time proportional to n log n to find a local minimum: an pair of indices i and j such that a[i][j] < a[i+1][j], a[i][j] < a[i][j+1], a[i][j] < a[i-1][j], and a[i][j] < a[i][j-1] (assuming the neighboring entry is in bounds).\n",
    "Hint: Find the minimum entry in row n/2, say a[n/2][j]. If it's a local minimum, then return it. Otherwise, check it's two vertical neighbors a[n/2-1][j] and a[n/2+1][j]. Recur in the half with the smaller neighbor.\n",
    "\n",
    "Extra credit: Design an algorithm that takes times proportional to n."
   ]
  },
  {
   "attachments": {},
   "cell_type": "markdown",
   "metadata": {},
   "source": [
    "Bitonic search. An array is bitonic if it is comprised of an increasing sequence of integers followed immediately by a decreasing sequence of integers. Write a program that, given a bitonic array of n distinct int values, determines whether a given integer is in the array. Your program should use ~ 3 log n compares in the worst case.\n",
    "Answer: Use a version of binary search, as in BitonicMax.java, to find the maximum (in ~ 1 lg n compares); then use binary search to search in each piece (in ~ 1 lg n compares per piece).\n",
    "\n"
   ]
  },
  {
   "attachments": {},
   "cell_type": "markdown",
   "metadata": {},
   "source": [
    "Binary search with only addition and subtraction. [Mihai Patrascu] Write a program that, given an array of n distinct integers in ascending order, determines whether a given integer is in the array. You may use only additions and subtractions and a constant amount of extra memory. The running time of your program should be proportional to log n in the worst case.\n",
    "Answer: Instead of searching based on powers of two (binary search), use Fibonacci numbers (which also grow exponentially). Maintain the current search range to be [i, i + F(k)] and keep F(k), F(k-1) in two variables. At each step compute F(k-2) via subtraction, check element i + F(k-2), and update the range to either [i, i + F(k-2)] or [i + F(k-2), i + F(k-2) + F(k-1)].\n",
    "\n"
   ]
  },
  {
   "attachments": {},
   "cell_type": "markdown",
   "metadata": {},
   "source": [
    "Binary search with duplicates. Modify binary search so that it always returns the smallest (largest) index of a key of an item matching the search key.\n",
    "Throwing eggs from a building. Suppose that you have an N-story building and plenty of eggs. Suppose also that an egg is broken if it is thrown off floor F or higher, and unbroken otherwise. First, devise a strategy to determine the value of F such that the number of broken eggs is ~ lg N when using ~ lg N throws, then find a way to reduce the cost to ~ 2 lg F when N is much larger than F.\n",
    "Hint: binary search; repeated doubling and binary searc"
   ]
  }
 ],
 "metadata": {
  "language_info": {
   "name": "python"
  },
  "orig_nbformat": 4
 },
 "nbformat": 4,
 "nbformat_minor": 2
}
