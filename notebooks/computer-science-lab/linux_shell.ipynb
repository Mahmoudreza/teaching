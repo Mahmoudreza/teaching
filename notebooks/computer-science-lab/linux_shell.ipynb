{
 "cells": [
  {
   "attachments": {},
   "cell_type": "markdown",
   "id": "korean-wednesday",
   "metadata": {},
   "source": [
    "# Linux Shell\n",
    "You should work with the Linux shell. In particular, you should do the following:\n",
    "- Open the terminal.\n",
    "- Check your current working directory.\n",
    "- Go to the `/tmp` directory. \n",
    "- Check the list of files and directories.\n",
    "- Create a new directory named `exercise`.\n",
    "- Go to the `exercise` directory. \n",
    "- Create a file named `file_1.txt` and write \"Hello World!\" into it.\n",
    "- Check the content of the new `file_1.txt` file.\n",
    "- Create an empty file and write the list of files on your Desktop in it. \n",
    "- Check the content of the new hidden file.\n",
    "- Append the text \"This file is confidential\" to the end of the hidden file.\n",
    "- Check the content of the new hidden file.\n",
    "- Go to the home directory.\n",
    "- Create a file named `home_file.txt` and write \"This is a file in my home directory.\" into it.\n",
    "- Move `home_file.txt` from your home directory to `/tmp/exercise`.\n",
    "- Rename `home_file.txt` to `file_2.txt`.\n",
    "- Go to the `/tmp/exercise` directory. \n",
    "- Merge `file_1.txt` and `file_2.txt` and write the result into a new file named `file_3.txt`.\n",
    "- Check the content of the new `file_3.txt` file.\n",
    "- Append `file_1.txt`, `file_2.txt`, and `file_3.txt` to the end of the hidden file.\n",
    "- List all (including hidden) files in `/tmp/exercise`.\n",
    "- Find the number of lines in the hidden file. \n",
    "- Find the number of unique lines in the hidden file.\n",
    "- Find all rows of the hidden file that contain the character \"a\".\n",
    "- Check the owner and permissions of files in `/tmp/exercise`.\n",
    "- Chang the permissions of `file_1.txt` to be readable, writeable, and executable by everyone.\n",
    "- Remove the whole `/tmp/exercise` directory. \n",
    "- List all the commands that you ran for each step. "
   ]
  },
  {
   "cell_type": "code",
   "execution_count": null,
   "id": "cff7f270",
   "metadata": {},
   "outputs": [],
   "source": []
  }
 ],
 "metadata": {
  "kernelspec": {
   "display_name": "Python 3",
   "language": "python",
   "name": "python3"
  },
  "language_info": {
   "codemirror_mode": {
    "name": "ipython",
    "version": 3
   },
   "file_extension": ".py",
   "mimetype": "text/x-python",
   "name": "python",
   "nbconvert_exporter": "python",
   "pygments_lexer": "ipython3",
   "version": "3.8.5"
  }
 },
 "nbformat": 4,
 "nbformat_minor": 5
}
