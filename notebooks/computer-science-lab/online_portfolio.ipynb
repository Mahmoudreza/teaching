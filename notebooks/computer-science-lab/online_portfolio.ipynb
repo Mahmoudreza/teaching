{
 "cells": [
  {
   "attachments": {},
   "cell_type": "markdown",
   "id": "korean-wednesday",
   "metadata": {},
   "source": [
    "# Online Portfolio\n",
    "Your company has received a few applications for a computer science position. You are the hiring manager and should review the online portfolios of the applicants. In particular, you should do the following:\n",
    "- Write a short review (including 3 strong and 3 weak points) for the online portfolio of each of the following applicants.\n",
    "    - [Megan Landau](http://www.meganlandau.com/portfolio-1/).\n",
    "    - [Kalyn Nakano](https://kalynnakano.com/).\n",
    "    - [Victoria Holland](https://victoria-holland.info/).\n",
    "    - [Gautam Krishna](https://www.gautamkrishnar.com/).\n",
    "    - [Lakshmi Chandana](https://chandanachaitanya.github.io/).\n",
    "- Rank the applicants for the job position based on your reviews.\n",
    "- Who will you hire in the end? Why? "
   ]
  },
  {
   "cell_type": "code",
   "execution_count": null,
   "id": "cff7f270",
   "metadata": {},
   "outputs": [],
   "source": []
  }
 ],
 "metadata": {
  "kernelspec": {
   "display_name": "Python 3",
   "language": "python",
   "name": "python3"
  },
  "language_info": {
   "codemirror_mode": {
    "name": "ipython",
    "version": 3
   },
   "file_extension": ".py",
   "mimetype": "text/x-python",
   "name": "python",
   "nbconvert_exporter": "python",
   "pygments_lexer": "ipython3",
   "version": "3.8.5"
  }
 },
 "nbformat": 4,
 "nbformat_minor": 5
}
