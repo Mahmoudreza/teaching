{
 "cells": [
  {
   "attachments": {},
   "cell_type": "markdown",
   "id": "korean-wednesday",
   "metadata": {},
   "source": [
    "# Contributing to Open Source\n",
    "You should build an open-source project together with your classmates. In particular, you should do the following:\n",
    "- One of the students becomes the project leader (PL).\n",
    "- PL creates a GitHub repository and adds the rest of the teammates as collaborators. \n",
    "- PL introduces the project idea to the rest of the team and distributes tasks among teammates. The project could be, for example, a weblog, where PL focuses on the main page and its style, and the other teammates will focus on the content and design of different articles. \n",
    "- Everyone works on his/her own task and issues a pull request when the task is done.\n",
    "- PL reviews the pull requests and merges them into the master branch if everything is fine."
   ]
  },
  {
   "cell_type": "code",
   "execution_count": null,
   "id": "cff7f270",
   "metadata": {},
   "outputs": [],
   "source": []
  }
 ],
 "metadata": {
  "kernelspec": {
   "display_name": "Python 3",
   "language": "python",
   "name": "python3"
  },
  "language_info": {
   "codemirror_mode": {
    "name": "ipython",
    "version": 3
   },
   "file_extension": ".py",
   "mimetype": "text/x-python",
   "name": "python",
   "nbconvert_exporter": "python",
   "pygments_lexer": "ipython3",
   "version": "3.8.5"
  }
 },
 "nbformat": 4,
 "nbformat_minor": 5
}
