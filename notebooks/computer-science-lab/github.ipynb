{
 "cells": [
  {
   "attachments": {},
   "cell_type": "markdown",
   "id": "korean-wednesday",
   "metadata": {},
   "source": [
    "# GitHub\n",
    "You should build your personal GitHub page. In particular, you should do the following:\n",
    "- Sign up for a [GitHub account](https://github.com/) if you have not done it yet. \n",
    "- Create a [GitHub page](https://www.w3schools.com/git/git_remote_pages.asp?remote=github) for yourself. \n",
    "- Format the layout and fill in the content of the page to make it your portfolio. "
   ]
  },
  {
   "cell_type": "code",
   "execution_count": null,
   "id": "cff7f270",
   "metadata": {},
   "outputs": [],
   "source": []
  }
 ],
 "metadata": {
  "kernelspec": {
   "display_name": "Python 3",
   "language": "python",
   "name": "python3"
  },
  "language_info": {
   "codemirror_mode": {
    "name": "ipython",
    "version": 3
   },
   "file_extension": ".py",
   "mimetype": "text/x-python",
   "name": "python",
   "nbconvert_exporter": "python",
   "pygments_lexer": "ipython3",
   "version": "3.8.5"
  }
 },
 "nbformat": 4,
 "nbformat_minor": 5
}
