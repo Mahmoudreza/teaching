{
 "cells": [
  {
   "attachments": {},
   "cell_type": "markdown",
   "id": "korean-wednesday",
   "metadata": {},
   "source": [
    "# Jupyter\n",
    "You should build a data analytics project in a Jupyter notebook. In particular, you should do the following:\n",
    "- Load the Gapminder dataset using the below code cell. \n",
    "- Extract and visualize interesting insights about countries using [Pandas](https://pandas.pydata.org/) and [Plotly](https://plotly.com/python/).\n",
    "- Structure, document, and decorate your notebook using [Markdown](https://www.markdownguide.org/basic-syntax/)."
   ]
  },
  {
   "cell_type": "code",
   "execution_count": null,
   "id": "cff7f270",
   "metadata": {},
   "outputs": [],
   "source": [
    "import pandas as pd\n",
    "import plotly\n",
    "import plotly.express as px\n",
    "import plotly.graph_objects as go\n",
    "\n",
    "df = px.data.gapminder()\n",
    "df.head()"
   ]
  }
 ],
 "metadata": {
  "kernelspec": {
   "display_name": "Python 3",
   "language": "python",
   "name": "python3"
  },
  "language_info": {
   "codemirror_mode": {
    "name": "ipython",
    "version": 3
   },
   "file_extension": ".py",
   "mimetype": "text/x-python",
   "name": "python",
   "nbconvert_exporter": "python",
   "pygments_lexer": "ipython3",
   "version": "3.11.2"
  }
 },
 "nbformat": 4,
 "nbformat_minor": 5
}
