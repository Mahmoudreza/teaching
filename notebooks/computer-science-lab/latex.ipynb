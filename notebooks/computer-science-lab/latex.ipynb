{
 "cells": [
  {
   "attachments": {},
   "cell_type": "markdown",
   "id": "korean-wednesday",
   "metadata": {},
   "source": [
    "# LaTeX\n",
    "You should build your professional CV using LaTeX. In particular, you should do the following:\n",
    "- Create an account on [Overleaf](https://www.overleaf.com/).\n",
    "- Choose a CV template from [Overleaf Gallery](https://www.overleaf.com/gallery).\n",
    "- Adopt the LaTeX template on Overleaf to design and implement your CV. "
   ]
  },
  {
   "cell_type": "code",
   "execution_count": null,
   "id": "cff7f270",
   "metadata": {},
   "outputs": [],
   "source": []
  }
 ],
 "metadata": {
  "kernelspec": {
   "display_name": "Python 3",
   "language": "python",
   "name": "python3"
  },
  "language_info": {
   "codemirror_mode": {
    "name": "ipython",
    "version": 3
   },
   "file_extension": ".py",
   "mimetype": "text/x-python",
   "name": "python",
   "nbconvert_exporter": "python",
   "pygments_lexer": "ipython3",
   "version": "3.8.5"
  }
 },
 "nbformat": 4,
 "nbformat_minor": 5
}
