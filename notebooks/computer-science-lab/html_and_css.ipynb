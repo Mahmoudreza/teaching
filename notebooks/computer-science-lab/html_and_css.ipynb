{
 "cells": [
  {
   "attachments": {},
   "cell_type": "markdown",
   "id": "korean-wednesday",
   "metadata": {},
   "source": [
    "# HTML and CSS\n",
    "You should build your personal web page using HTML and CSS. In particular, you should do the following:\n",
    "- Check [W3Schools](https://www.w3schools.com/html/default.asp) tutorials to familiarize yourself with different features of HTML and CSS.\n",
    "- Create a simple static web page for your portfolio using HTML.\n",
    "- Format the layout of the web page using CSS."
   ]
  },
  {
   "cell_type": "code",
   "execution_count": null,
   "id": "cff7f270",
   "metadata": {},
   "outputs": [],
   "source": []
  }
 ],
 "metadata": {
  "kernelspec": {
   "display_name": "Python 3",
   "language": "python",
   "name": "python3"
  },
  "language_info": {
   "codemirror_mode": {
    "name": "ipython",
    "version": 3
   },
   "file_extension": ".py",
   "mimetype": "text/x-python",
   "name": "python",
   "nbconvert_exporter": "python",
   "pygments_lexer": "ipython3",
   "version": "3.8.5"
  }
 },
 "nbformat": 4,
 "nbformat_minor": 5
}
