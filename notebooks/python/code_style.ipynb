{
 "cells": [
  {
   "attachments": {},
   "cell_type": "markdown",
   "id": "isolated-catholic",
   "metadata": {},
   "source": [
    "# Code Style\n",
    "You should clean up the code according to PEP 8 guidelines. In particular, you should make sure that\n",
    "- class names are in CamelCase.\n",
    "- variable and function names are in lowercase, with words separated by underscores.\n",
    "- there are proper spaces around operators and function arguments.\n",
    "- the code is appropriately indented.\n",
    "- docstrings are included for the class and methods to provide clear documentation."
   ]
  },
  {
   "attachments": {},
   "cell_type": "markdown",
   "id": "be7d31a9",
   "metadata": {},
   "source": [
    "## Circle Class"
   ]
  },
  {
   "cell_type": "code",
   "execution_count": null,
   "id": "e6eee1fd",
   "metadata": {},
   "outputs": [],
   "source": [
    "Pi = 3.14\n",
    "class CIRCLE:\n",
    "    def __init__(Self, RADIUS):\n",
    "        Self.Radius = RADIUS\n",
    "    @property\n",
    "    def AREA(Self):\n",
    "        return (Self.Radius **2) * Pi\n",
    "    @property\n",
    "    def PERIMETER(Self):\n",
    "        return 2 * Self.Radius * Pi\n",
    "SmallCIRCLE = CIRCLE(1)\n",
    "BigCIRCLE = CIRCLE(5)\n",
    "print(f\"Area of small circle = {SmallCIRCLE.AREA}\")\n",
    "print(f\"Perimeter of small circle = {SmallCIRCLE.PERIMETER}\")\n",
    "print(f\"Area of big circle = {BigCIRCLE.AREA}\")\n",
    "print(f\"Perimeter of big circle = {BigCIRCLE.PERIMETER}\")"
   ]
  },
  {
   "cell_type": "code",
   "execution_count": null,
   "id": "2f170a2a",
   "metadata": {},
   "outputs": [],
   "source": []
  },
  {
   "attachments": {},
   "cell_type": "markdown",
   "id": "fbed88d4",
   "metadata": {},
   "source": [
    "## Animal Class"
   ]
  },
  {
   "cell_type": "code",
   "execution_count": null,
   "id": "going-custom",
   "metadata": {},
   "outputs": [],
   "source": [
    "class animal:\n",
    "    def __init__(self, name, type, age):\n",
    "        self.name = name\n",
    "        self.type = type\n",
    "        self.age = age\n",
    "    def get_name(self):\n",
    "        return self.name\n",
    "    def get_type(self):\n",
    "        return self.type\n",
    "    def get_age(self):\n",
    "        return self.age\n",
    "    def speak(self):\n",
    "        if self.type.lower() == \"cat\":\n",
    "            print(\"Meow!\")\n",
    "        elif self.type.lower() == \"dog\":\n",
    "            print(\"Woof!\")\n",
    "        else:\n",
    "            print(\"Unknown animal type.\")\n",
    "def main():\n",
    "    myanimal = animal(\"Tom\", \"cat\", 3)\n",
    "    print(\"Name:\", myanimal.get_name())\n",
    "    print(\"Type:\", myanimal.get_type())\n",
    "    print(\"Age:\", myanimal.get_age())\n",
    "    myanimal.speak()\n",
    "if __name__ == \"__main__\":\n",
    "    main()"
   ]
  },
  {
   "cell_type": "code",
   "execution_count": null,
   "id": "18ebb552",
   "metadata": {},
   "outputs": [],
   "source": []
  }
 ],
 "metadata": {
  "kernelspec": {
   "display_name": "Python 3",
   "language": "python",
   "name": "python3"
  },
  "language_info": {
   "codemirror_mode": {
    "name": "ipython",
    "version": 3
   },
   "file_extension": ".py",
   "mimetype": "text/x-python",
   "name": "python",
   "nbconvert_exporter": "python",
   "pygments_lexer": "ipython3",
   "version": "3.11.2"
  }
 },
 "nbformat": 4,
 "nbformat_minor": 5
}
