{
 "cells": [
  {
   "cell_type": "markdown",
   "id": "loved-gallery",
   "metadata": {},
   "source": [
    "# Expressions"
   ]
  },
  {
   "cell_type": "markdown",
   "id": "false-documentary",
   "metadata": {},
   "source": [
    "## Count Seconds in a Decade\n",
    "Write a Python program to calculate the number of seconds in 10 years. Assume that we have 2 leap years in this period. Assign the result into a variable named `seconds_in_10_years`."
   ]
  },
  {
   "cell_type": "code",
   "execution_count": null,
   "id": "prescribed-faculty",
   "metadata": {},
   "outputs": [],
   "source": []
  },
  {
   "cell_type": "markdown",
   "id": "sealed-mouth",
   "metadata": {},
   "source": [
    "## Compute the Area of a Circle\n",
    "Write a Python program that computes the area of a circle based on a given radius. The area of circle can be computed by the following formula: $ a = \\pi r^2 $."
   ]
  },
  {
   "cell_type": "code",
   "execution_count": null,
   "id": "amber-macedonia",
   "metadata": {},
   "outputs": [],
   "source": []
  },
  {
   "cell_type": "markdown",
   "id": "attached-cleaning",
   "metadata": {},
   "source": [
    "## Compute Maximum of Numbers\n",
    "Write a Python program that computes the maximum of two inputs: \n",
    "- The first input should be the absolute of -4. \n",
    "- The second input should be the length of the string `\"abc\"`."
   ]
  },
  {
   "cell_type": "code",
   "execution_count": null,
   "id": "aware-resort",
   "metadata": {},
   "outputs": [],
   "source": []
  },
  {
   "cell_type": "markdown",
   "id": "cooperative-request",
   "metadata": {},
   "source": [
    "## Compute Euclidean Distance\n",
    "Write a Python program to compute the Euclidean distance between two given points $ (x_1, y_1) $ and $ (x_2, y_2) $, which is $ \\sqrt{(x_1 - x_2)^2 + (y_1 - y_2)^2} $."
   ]
  },
  {
   "cell_type": "code",
   "execution_count": null,
   "id": "killing-shore",
   "metadata": {},
   "outputs": [],
   "source": []
  },
  {
   "cell_type": "markdown",
   "id": "color-texas",
   "metadata": {},
   "source": [
    "## Convert Fahrenheit to Celsius \n",
    "Write a Python program to convert fahrenheit to celsius based on the the following formula: $ C = (F - 32) \\times \\frac{5}{9}. $"
   ]
  },
  {
   "cell_type": "code",
   "execution_count": null,
   "id": "broad-ordinary",
   "metadata": {},
   "outputs": [],
   "source": []
  },
  {
   "cell_type": "markdown",
   "id": "imported-yeast",
   "metadata": {},
   "source": [
    "## Print User's Name\n",
    "Write a Python program which accepts the user's first and last name and prints them in reverse order with a space between them. For example, if the user enters `John Doe`, the program should print `Doe John`. Note that you can use the `input()` function to take user's inputs."
   ]
  },
  {
   "cell_type": "code",
   "execution_count": null,
   "id": "inner-arabic",
   "metadata": {},
   "outputs": [],
   "source": []
  },
  {
   "cell_type": "markdown",
   "id": "3d187e0e",
   "metadata": {},
   "source": [
    "## Read a Text File\n",
    "Write a Python program that opens a text file named `my_file.txt` and writes `Hello world!` in that file."
   ]
  },
  {
   "cell_type": "code",
   "execution_count": null,
   "id": "468bc699",
   "metadata": {},
   "outputs": [],
   "source": []
  }
 ],
 "metadata": {
  "kernelspec": {
   "display_name": "Python 3",
   "language": "python",
   "name": "python3"
  },
  "language_info": {
   "codemirror_mode": {
    "name": "ipython",
    "version": 3
   },
   "file_extension": ".py",
   "mimetype": "text/x-python",
   "name": "python",
   "nbconvert_exporter": "python",
   "pygments_lexer": "ipython3",
   "version": "3.8.5"
  }
 },
 "nbformat": 4,
 "nbformat_minor": 5
}
