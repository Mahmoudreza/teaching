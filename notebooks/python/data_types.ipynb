{
 "cells": [
  {
   "cell_type": "markdown",
   "id": "novel-stream",
   "metadata": {},
   "source": [
    "# Data Types"
   ]
  },
  {
   "cell_type": "markdown",
   "id": "finite-albania",
   "metadata": {},
   "source": [
    "## Remove Vowels\n",
    "Write a Python program that takes a string, makes the character lowercase, removes its vowel characters (`\"a\"`, `\"e\"`, `\"i\"`, `\"o\"`, and `\"u\"`) and prints the result. For example, given the string `\"Hello\"`, the program should print `\"hll\"`."
   ]
  },
  {
   "cell_type": "code",
   "execution_count": null,
   "id": "human-century",
   "metadata": {},
   "outputs": [],
   "source": []
  },
  {
   "cell_type": "markdown",
   "id": "formed-candy",
   "metadata": {},
   "source": [
    "## Reverse the Words\n",
    "Write a Python program that takes a string containing some words that are separeted with whitespace, reverses the words in the string, and prints the result. For example, given the string `\"hello how are you\"`, the program should print `\"you are how hello\"`. "
   ]
  },
  {
   "cell_type": "code",
   "execution_count": null,
   "id": "forward-berry",
   "metadata": {},
   "outputs": [],
   "source": []
  },
  {
   "cell_type": "markdown",
   "id": "after-radius",
   "metadata": {},
   "source": [
    "## Count Common Elements of 2 Lists\n",
    "Write a Python program that prints the number of common elements in two given lists. For example, given `[1, 2, 3]` and `[5, 1, 3]`, the program should print 2."
   ]
  },
  {
   "cell_type": "code",
   "execution_count": null,
   "id": "adverse-berkeley",
   "metadata": {},
   "outputs": [],
   "source": []
  },
  {
   "cell_type": "markdown",
   "id": "secret-theme",
   "metadata": {},
   "source": [
    "## Print Sorted Unique Words\n",
    "Write a Python program that takes a string containing some words that are separeted with whitespace, removes all duplicate words, sorts the remaining words alphanumerically, and prints the result. For example, given the string `\"hello world and practice makes perfect and hello world again\"`, the program should print `\"again and hello makes perfect practice world\"`."
   ]
  },
  {
   "cell_type": "code",
   "execution_count": null,
   "id": "requested-rapid",
   "metadata": {},
   "outputs": [],
   "source": []
  },
  {
   "cell_type": "markdown",
   "id": "satellite-residence",
   "metadata": {},
   "source": [
    "## Convert a List of Integers to an Integer\n",
    "Write a Python program to convert a given list of integers to an integer. For example, given `[11, 2, 54]`, the program should assign 11254 into an integer variable."
   ]
  },
  {
   "cell_type": "code",
   "execution_count": null,
   "id": "excessive-spectrum",
   "metadata": {},
   "outputs": [],
   "source": []
  }
 ],
 "metadata": {
  "kernelspec": {
   "display_name": "Python 3",
   "language": "python",
   "name": "python3"
  },
  "language_info": {
   "codemirror_mode": {
    "name": "ipython",
    "version": 3
   },
   "file_extension": ".py",
   "mimetype": "text/x-python",
   "name": "python",
   "nbconvert_exporter": "python",
   "pygments_lexer": "ipython3",
   "version": "3.8.5"
  }
 },
 "nbformat": 4,
 "nbformat_minor": 5
}
