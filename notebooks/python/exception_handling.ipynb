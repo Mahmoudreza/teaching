{
 "cells": [
  {
   "cell_type": "markdown",
   "id": "isolated-catholic",
   "metadata": {},
   "source": [
    "# Exception Handling\n",
    "Define class Person with the followings:\n",
    "- A `passport_number` attribute. \n",
    "- A `name` attribute. \n",
    "- A `birthday` attribute. \n",
    "- An `email_address` attribute. \n",
    "- An `__init__` method.\n",
    "- A `__str__` method.\n",
    "- A `set_passport_number` method. It should set the passport number if the value contains 9 alphanumeric characters and its first character is a letter. Otherwise, a custom `InvalidPassportNumber` exception should be raised. \n",
    "- A `set_name` method. It should set the name if the value contains 3 to 20 letters. Otherwise, a custom `InvalidName` exception should be raised. \n",
    "- A `set_birthday` method. It should set the birthday if the value is a correct date formatted as `dd.mm.yyyy`. Otherwise, a custom `InvalidBirthday` exception should be raised. \n",
    "- A `set_email_address` method. It should set the email address if the value is formatted as a valid email address. Otherwise, a custom `InvalidEmailAddress` exception should be raised. \n",
    "- A `get_age` method. It should calculate an integer value between 0 and 120 as the current age. Otherwise, a custom `InvalidAge` exception should be raised. \n",
    "\n",
    "Instantiate a couple of Person objects. Use `try` and `except` blocks to catch the exceptions you have defined."
   ]
  },
  {
   "cell_type": "code",
   "execution_count": null,
   "id": "87442759",
   "metadata": {
    "vscode": {
     "languageId": "plaintext"
    }
   },
   "outputs": [],
   "source": []
  }
 ],
 "metadata": {
  "kernelspec": {
   "display_name": "Python 3",
   "language": "python",
   "name": "python3"
  },
  "language_info": {
   "codemirror_mode": {
    "name": "ipython",
    "version": 3
   },
   "file_extension": ".py",
   "mimetype": "text/x-python",
   "name": "python",
   "nbconvert_exporter": "python",
   "pygments_lexer": "ipython3",
   "version": "3.8.5"
  }
 },
 "nbformat": 4,
 "nbformat_minor": 5
}
