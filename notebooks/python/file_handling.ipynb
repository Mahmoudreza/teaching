{
 "cells": [
  {
   "cell_type": "markdown",
   "id": "isolated-catholic",
   "metadata": {},
   "source": [
    "# File Handling"
   ]
  },
  {
   "cell_type": "markdown",
   "id": "c9952178",
   "metadata": {},
   "source": [
    "## Write to a File\n",
    "Write a Python program that opens a `my_file.txt` file, writes the following text into it, and closes the file."
   ]
  },
  {
   "cell_type": "code",
   "execution_count": null,
   "id": "8acd47d0",
   "metadata": {
    "vscode": {
     "languageId": "plaintext"
    }
   },
   "outputs": [],
   "source": [
    "text = \"\"\"We learn Python.\n",
    "GISMA is our university.\n",
    "Cool!\n",
    "We like both Python and GISMA.\n",
    "\"\"\""
   ]
  },
  {
   "cell_type": "markdown",
   "id": "89ef6b01",
   "metadata": {},
   "source": [
    "## Read a File\n",
    "Write a Python program that opens the `my_file.txt` file, reads its content, prints the content, and closes the file. "
   ]
  },
  {
   "cell_type": "code",
   "execution_count": null,
   "id": "4ea65727",
   "metadata": {
    "vscode": {
     "languageId": "plaintext"
    }
   },
   "outputs": [],
   "source": []
  },
  {
   "cell_type": "markdown",
   "id": "8e1dd626",
   "metadata": {},
   "source": [
    "## Work with the File Pointer\n",
    "Write a Python program that opens the `my_file.txt` file, moves the file pointer to the beginning of the word `like`, overwrites it with the word `LIKE`, and closes the file. "
   ]
  },
  {
   "cell_type": "code",
   "execution_count": null,
   "id": "575f0726",
   "metadata": {
    "vscode": {
     "languageId": "plaintext"
    }
   },
   "outputs": [],
   "source": []
  },
  {
   "cell_type": "markdown",
   "id": "7ca023bb",
   "metadata": {},
   "source": [
    "## Copy the Content of a File\n",
    "Write a Python program that opens the `my_file.txt` and `my_file_2.txt` files. It should read one line at a time from the first file. If this line contains either `Python` or `GISMA`, the line should be written in the second file. Otherwise, the line should be skipped. In the end, the program should close both files. "
   ]
  },
  {
   "cell_type": "code",
   "execution_count": null,
   "id": "0c80f8a0",
   "metadata": {
    "vscode": {
     "languageId": "plaintext"
    }
   },
   "outputs": [],
   "source": []
  },
  {
   "cell_type": "markdown",
   "id": "87cb4fc3",
   "metadata": {},
   "source": [
    "## Modify a File\n",
    "Write a Python program that opens the `my_file_2.txt` file. It should randomly choose a line and replace all characters of that line with `*`. In the end, the program should close the file. "
   ]
  },
  {
   "cell_type": "code",
   "execution_count": null,
   "id": "8695b533",
   "metadata": {
    "vscode": {
     "languageId": "plaintext"
    }
   },
   "outputs": [],
   "source": []
  },
  {
   "cell_type": "markdown",
   "id": "2fe6538a",
   "metadata": {},
   "source": [
    "## Merge Two Files\n",
    "Write a Python program that adds the content of the `my_file.txt` file to the end of the `my_file_2.txt` file. "
   ]
  }
 ],
 "metadata": {
  "kernelspec": {
   "display_name": "Python 3",
   "language": "python",
   "name": "python3"
  },
  "language_info": {
   "codemirror_mode": {
    "name": "ipython",
    "version": 3
   },
   "file_extension": ".py",
   "mimetype": "text/x-python",
   "name": "python",
   "nbconvert_exporter": "python",
   "pygments_lexer": "ipython3",
   "version": "3.8.5"
  }
 },
 "nbformat": 4,
 "nbformat_minor": 5
}
