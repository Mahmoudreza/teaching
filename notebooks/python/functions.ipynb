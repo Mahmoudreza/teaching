{
 "cells": [
  {
   "cell_type": "markdown",
   "id": "qualified-overhead",
   "metadata": {},
   "source": [
    "# Functions"
   ]
  },
  {
   "cell_type": "markdown",
   "id": "geographic-kazakhstan",
   "metadata": {},
   "source": [
    "## Count Non-Vowel Characters\n",
    "Write a Python function that takes a string and returns the number of non-vowel characters in that string. Vowel characters in English are `\"a\"`, `\"e\"`, `\"i\"`, `\"o\"`, and `\"u\"`. For example, given the string `\"abcdA\"`, the function should return 3."
   ]
  },
  {
   "cell_type": "code",
   "execution_count": null,
   "id": "increased-introduction",
   "metadata": {},
   "outputs": [],
   "source": []
  },
  {
   "cell_type": "markdown",
   "id": "permanent-lawsuit",
   "metadata": {},
   "source": [
    "## Multiply the List Elements\n",
    "Write a Python function that takes a list of values as input and returns the product of all the numbers in the list. For example, given the input list `[1, 3, 8]`, the function should return 24."
   ]
  },
  {
   "cell_type": "code",
   "execution_count": null,
   "id": "extensive-dividend",
   "metadata": {},
   "outputs": [],
   "source": []
  },
  {
   "cell_type": "markdown",
   "id": "documented-discharge",
   "metadata": {},
   "source": [
    "## Check if a String is Palindrome\n",
    "Write a Python function that takes a string and returns `True` if it is palindrome. A palindrome is a word, number, phrase, or other sequence of characters which reads the same backward as forward. For example, given the string `\"abc\"` the function should return `False`. But, given the string `\"aba\"`, the function should return `True`."
   ]
  },
  {
   "cell_type": "code",
   "execution_count": null,
   "id": "homeless-generator",
   "metadata": {},
   "outputs": [],
   "source": []
  },
  {
   "cell_type": "markdown",
   "id": "retired-craps",
   "metadata": {},
   "source": [
    "## Count the Unique Digits in an Integer\n",
    "Write a Python function that takes a positive integer and returns the number of unique digits in that integer. For example, given the integer 12315, the function should return 4."
   ]
  },
  {
   "cell_type": "code",
   "execution_count": null,
   "id": "australian-resort",
   "metadata": {},
   "outputs": [],
   "source": []
  },
  {
   "cell_type": "markdown",
   "id": "upset-physiology",
   "metadata": {},
   "source": [
    "## Check a Number is Prime\n",
    "Write a Python function that takes a number and checks the number is prime or not. It should return `True` for being prime and `False` otherwise. Note that a prime number (or a prime) is a natural number greater than 1 and that has no positive divisors other than 1 and itself. For example, the function should return `True` for the given number 7 and `False` for the given number 10."
   ]
  },
  {
   "cell_type": "code",
   "execution_count": null,
   "id": "normal-garbage",
   "metadata": {},
   "outputs": [],
   "source": []
  },
  {
   "cell_type": "markdown",
   "id": "daily-console",
   "metadata": {},
   "source": [
    "## Sort Hyphened-Seperated Words\n",
    "Write a Python function that takes a sequence of words that are separated by hyphens as input and returns the words in a hyphen-separated sequence after sorting the words alphabetically. For example, given the string `\"green-red-yellow-black-white\"`, the function should return `\"black-green-red-white-yellow\"`."
   ]
  },
  {
   "cell_type": "code",
   "execution_count": null,
   "id": "aging-staff",
   "metadata": {},
   "outputs": [],
   "source": []
  },
  {
   "cell_type": "markdown",
   "id": "dressed-leisure",
   "metadata": {},
   "source": [
    "## Count the Characters\n",
    "Write a Python function that takes a string as input and returns a dictionary that stores the frequency of each character in the input string. For example, given the string `\"abca\"`, the function should return `{'a': 2, 'b': 1, 'c': 1}`."
   ]
  },
  {
   "cell_type": "code",
   "execution_count": null,
   "id": "complete-stress",
   "metadata": {},
   "outputs": [],
   "source": []
  },
  {
   "cell_type": "markdown",
   "id": "aerial-uganda",
   "metadata": {},
   "source": [
    "## Compute the Fibonacci Sequence\n",
    "The Fibonacci Sequence is computed based on the following formula:     \n",
    "\n",
    "$$ f(n) = 0 \\text{   if } n = 0; \\\\\n",
    "f(n) = 1 \\text{   if } n = 1; \\\\\n",
    "f(n) = f(n-1) + f(n-2) \\text{   if } n > 1. $$     \n",
    "\n",
    "Write a Python function that computes the value of `f(n)` with a given `n` as input. For example, given 7, the function should return 13."
   ]
  },
  {
   "cell_type": "code",
   "execution_count": null,
   "id": "compatible-senate",
   "metadata": {},
   "outputs": [],
   "source": []
  }
 ],
 "metadata": {
  "kernelspec": {
   "display_name": "Python 3",
   "language": "python",
   "name": "python3"
  },
  "language_info": {
   "codemirror_mode": {
    "name": "ipython",
    "version": 3
   },
   "file_extension": ".py",
   "mimetype": "text/x-python",
   "name": "python",
   "nbconvert_exporter": "python",
   "pygments_lexer": "ipython3",
   "version": "3.8.5"
  }
 },
 "nbformat": 4,
 "nbformat_minor": 5
}
