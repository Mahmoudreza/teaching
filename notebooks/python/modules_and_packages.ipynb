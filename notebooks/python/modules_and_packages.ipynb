{
 "cells": [
  {
   "cell_type": "markdown",
   "id": "bibliographic-edward",
   "metadata": {},
   "source": [
    "# Modules and Packages"
   ]
  },
  {
   "cell_type": "markdown",
   "id": "actual-chinese",
   "metadata": {},
   "source": [
    "## os\n",
    "Write a Python program to print the list of files in the current folder and their absolute path."
   ]
  },
  {
   "cell_type": "code",
   "execution_count": null,
   "id": "tender-colombia",
   "metadata": {},
   "outputs": [],
   "source": []
  },
  {
   "cell_type": "markdown",
   "id": "burning-montreal",
   "metadata": {},
   "source": [
    "## math\n",
    "Write a Python program that finds the maximum of log$_2 10000$ and $ e^e $."
   ]
  },
  {
   "cell_type": "code",
   "execution_count": null,
   "id": "saved-craft",
   "metadata": {},
   "outputs": [],
   "source": []
  },
  {
   "cell_type": "markdown",
   "id": "opponent-morning",
   "metadata": {},
   "source": [
    "## random\n",
    "Write a Python function that takes a probability between 0.0 and 1.0 and returns `True` with that probability. For example, if the input probability is 0.3, the function should return `True` in the 30\\% of times and `False` in the 70\\% of times."
   ]
  },
  {
   "cell_type": "code",
   "execution_count": null,
   "id": "global-alpha",
   "metadata": {},
   "outputs": [],
   "source": []
  },
  {
   "cell_type": "markdown",
   "id": "novel-rotation",
   "metadata": {},
   "source": [
    "## pickle\n",
    "Write a Python program to store a dictionary on the hard disk and load it again."
   ]
  },
  {
   "cell_type": "code",
   "execution_count": null,
   "id": "convinced-fault",
   "metadata": {},
   "outputs": [],
   "source": []
  },
  {
   "cell_type": "markdown",
   "id": "scientific-timer",
   "metadata": {},
   "source": [
    "## json\n",
    "Write a Python program to store a dictionary as a json file on the hard disk and load it again."
   ]
  },
  {
   "cell_type": "code",
   "execution_count": null,
   "id": "western-resident",
   "metadata": {},
   "outputs": [],
   "source": []
  },
  {
   "cell_type": "markdown",
   "id": "hidden-quick",
   "metadata": {},
   "source": [
    "## re\n",
    "Write a function that takes a string as input and returns `True` if the format of the string matches the format of an email address."
   ]
  },
  {
   "cell_type": "code",
   "execution_count": null,
   "id": "cloudy-visiting",
   "metadata": {},
   "outputs": [],
   "source": []
  }
 ],
 "metadata": {
  "kernelspec": {
   "display_name": "Python 3",
   "language": "python",
   "name": "python3"
  },
  "language_info": {
   "codemirror_mode": {
    "name": "ipython",
    "version": 3
   },
   "file_extension": ".py",
   "mimetype": "text/x-python",
   "name": "python",
   "nbconvert_exporter": "python",
   "pygments_lexer": "ipython3",
   "version": "3.8.5"
  }
 },
 "nbformat": 4,
 "nbformat_minor": 5
}
