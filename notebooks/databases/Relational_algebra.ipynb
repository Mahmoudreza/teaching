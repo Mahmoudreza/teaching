{
 "cells": [
  {
   "cell_type": "markdown",
   "id": "820b9137",
   "metadata": {},
   "source": [
    "# Answer the following questions:\n",
    "(Q1) Find the names of sailors who have reserved boat 103\n \n",
    "(Q2) Find the names of sailors who have reserved a red boat \n \n",
    "(Q3) Find the colors of boats reserved by Lubber\n \n",
    "(Q4) Find the names of sailors who have reserved at least one boat\n \n",
    "(Q5) Find the names of sailors who have reserved a red or a green boat\n \n",
    "(Q6) Find the names of sailors who have reserved a red and a green boat\n \n",
    "(Q7) Find the names of sailors who have reserved at least two boats \n \n",
    "(Q8) Find the sids of sailors with age over 20 who have not reserved a red boat\n \n",
    "(Q9) Find the names of sailors who have reserved all boats\n \n",
    "(Q10) Find the names of sailors who have reserved all boats called Interlake\n"
   ]
  },
  {
   "cell_type": "code",
   "execution_count": null,
   "id": "12c0ac58",
   "metadata": {},
   "outputs": [],
   "source": []
  }
 ],
 "metadata": {
  "kernelspec": {
   "display_name": "Python 3",
   "language": "python",
   "name": "python3"
  },
  "language_info": {
   "codemirror_mode": {
    "name": "ipython",
    "version": 3
   },
   "file_extension": ".py",
   "mimetype": "text/x-python",
   "name": "python",
   "nbconvert_exporter": "python",
   "pygments_lexer": "ipython3",
   "version": "3.8.5"
  }
 },
 "nbformat": 4,
 "nbformat_minor": 5
}
















