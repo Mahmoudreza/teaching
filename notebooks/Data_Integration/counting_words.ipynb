{
  "nbformat": 4,
  "nbformat_minor": 0,
  "metadata": {
    "colab": {
      "provenance": []
    },
    "kernelspec": {
      "name": "python3",
      "display_name": "Python 3"
    },
    "language_info": {
      "name": "python"
    }
  },
  "cells": [
    {
      "cell_type": "code",
      "source": [
        "!pip install lorem\n"
      ],
      "metadata": {
        "colab": {
          "base_uri": "https://localhost:8080/"
        },
        "id": "vD7G3tXsH7k0",
        "outputId": "8cdd0de6-fec2-4db3-8da2-cba0a1f6af4d"
      },
      "execution_count": 4,
      "outputs": [
        {
          "output_type": "stream",
          "name": "stdout",
          "text": [
            "Collecting lorem\n",
            "  Downloading lorem-0.1.1-py3-none-any.whl (5.0 kB)\n",
            "Installing collected packages: lorem\n",
            "Successfully installed lorem-0.1.1\n"
          ]
        }
      ]
    },
    {
      "cell_type": "markdown",
      "source": [
        "Create sample text file"
      ],
      "metadata": {
        "id": "mrL-AdL7GHDY"
      }
    },
    {
      "cell_type": "code",
      "source": [
        "from lorem import text\n",
        "\n",
        "with open(\"sample.txt\", \"w\") as f:\n",
        "    for i in range(2):\n",
        "        f.write(text())"
      ],
      "metadata": {
        "id": "MX1DHh4nGMZY"
      },
      "execution_count": 5,
      "outputs": []
    },
    {
      "cell_type": "code",
      "source": [
        "cat sample.txt"
      ],
      "metadata": {
        "id": "CHHnCN_bIStu"
      },
      "execution_count": null,
      "outputs": []
    },
    {
      "cell_type": "markdown",
      "source": [
        "Write a python program that counts the number of lines, different words and characters in that file."
      ],
      "metadata": {
        "id": "ssgz69-AGGjF"
      }
    },
    {
      "cell_type": "code",
      "source": [
        "%%bash\n",
        "wc sample.txt\n",
        "du -h sample.txt"
      ],
      "metadata": {
        "id": "dYPhX2nWGStx"
      },
      "execution_count": null,
      "outputs": []
    },
    {
      "cell_type": "markdown",
      "source": [
        "Exercise 4.2\n",
        "Create a function called map_words that take a file name as argument and return a lists containing all words as items.\n",
        "\n"
      ],
      "metadata": {
        "id": "hipH17MhGV7l"
      }
    },
    {
      "cell_type": "code",
      "source": [
        "map_words(\"sample.txt\")[:5] # first five words\n",
        "['adipisci', 'adipisci', 'adipisci', 'adipisci', 'adipisci']"
      ],
      "metadata": {
        "id": "pkAECi__GY0_"
      },
      "execution_count": null,
      "outputs": []
    },
    {
      "cell_type": "markdown",
      "source": [
        "Sorting a dictionary by value\n",
        "By default, if you use sorted function on a dict, it will use keys to sort it. To sort by values, you can use operator.itemgetter(1) Return a callable object that fetches item from its operand using the operand’s __getitem__( method. It could be used to sort results.\n",
        "sorted function has also a reverse optional argument.\n",
        "\n"
      ],
      "metadata": {
        "id": "WecyaZ07GcCQ"
      }
    },
    {
      "cell_type": "code",
      "source": [
        "import operator\n",
        "fruits = [('apple', 3), ('banana', 2), ('pear', 5), ('orange', 1)]\n",
        "getcount = operator.itemgetter(1)\n",
        "dict(sorted(fruits, key=getcount))\n",
        "\n",
        "dict(sorted(fruits, key=getcount, reverse=True))"
      ],
      "metadata": {
        "id": "htkvNwTKGiqq"
      },
      "execution_count": null,
      "outputs": []
    },
    {
      "cell_type": "markdown",
      "source": [
        "Exercise 4.3\n",
        "Create a function reduce to reduce the list of words returned by map_words and return a dictionary containing all words as keys and number of occurrences as values."
      ],
      "metadata": {
        "id": "1xkGhhR3Gmsx"
      }
    },
    {
      "cell_type": "code",
      "source": [
        "recuce('sample.txt')\n",
        "{'tempora': 2, 'non': 1, 'quisquam': 1, 'amet': 1, 'sit': 1}"
      ],
      "metadata": {
        "id": "nfLpc8k_GvGN"
      },
      "execution_count": null,
      "outputs": []
    },
    {
      "cell_type": "markdown",
      "source": [
        "You probably notice that this simple function is not easy to implement. Python standard library provides some features that can help."
      ],
      "metadata": {
        "id": "ZGhMka6eGv39"
      }
    },
    {
      "cell_type": "markdown",
      "source": [
        "Container datatypes\n",
        "collection module implements specialized container datatypes providing alternatives to Python’s general purpose built-in containers, dict, list, set, and tuple.\n",
        "\n",
        "defaultdict : dict subclass that calls a factory function to supply missing values\n",
        "\n",
        "Counter : dict subclass for counting hashable objects\n",
        "\n",
        "defaultdict\n",
        "When you implement the wordcount function you probably had some problem to append key-value pair to your dict. If you try to change the value of a key that is not present in the dict, the key is not automatically created.\n",
        "\n",
        "You can use a try-except flow but the defaultdict could be a solution. This container is a dict subclass that calls a factory function to supply missing values. For example, using list as the default_factory, it is easy to group a sequence of key-value pairs into a dictionary of lists:"
      ],
      "metadata": {
        "id": "Uagp-nzlGzpr"
      }
    },
    {
      "cell_type": "code",
      "source": [
        "from collections import defaultdict\n",
        "s = [('yellow', 1), ('blue', 2), ('yellow', 3), ('blue', 4), ('red', 1)]\n",
        "d = defaultdict(list)\n",
        "for k, v in s:\n",
        "    d[k].append(v)\n",
        "\n",
        "dict(d)"
      ],
      "metadata": {
        "id": "Gk0muiVsHECO"
      },
      "execution_count": null,
      "outputs": []
    },
    {
      "cell_type": "markdown",
      "source": [
        "Modify the reduce function you wrote above by using a defaultdict with the most suitable factory.Counter\n",
        "A Counter is a dict subclass for counting hashable objects. It is an unordered collection where elements are stored as dictionary keys and their counts are stored as dictionary values. Counts are allowed to be any integer value including zero or negative counts.\n",
        "\n",
        "Elements are counted from an iterable or initialized from another mapping (or counter):"
      ],
      "metadata": {
        "id": "Et-AGlSCHJXe"
      }
    },
    {
      "cell_type": "code",
      "source": [
        "from collections import Counter\n",
        "\n",
        "violet = dict(r=23,g=13,b=23)\n",
        "print(violet)\n",
        "cnt = Counter(violet)  # or Counter(r=238, g=130, b=238)\n",
        "print(cnt['c'])\n",
        "print(cnt['r'])"
      ],
      "metadata": {
        "id": "CIGs5QgQHSgB"
      },
      "execution_count": null,
      "outputs": []
    },
    {
      "cell_type": "code",
      "source": [
        "print(*cnt.elements())\n",
        "cnt.most_common(2)\n",
        "cnt.values()"
      ],
      "metadata": {
        "id": "K0A9ePWMHVcw"
      },
      "execution_count": null,
      "outputs": []
    },
    {
      "cell_type": "markdown",
      "source": [
        "Exercise 4.5\n",
        "Use a Counter object to count words occurences in the sample text file.\n",
        "\n",
        "The Counter class is similar to bags or multisets in some Python libraries or other languages. We will see later how to use Counter-like objects in a parallel context.\n",
        "\n",
        "Process multiple files\n",
        "Create several files containing lorem text named ‘sample01.txt’, ‘sample02.txt’…\n",
        "\n",
        "If you process these files you return multiple dictionaries.\n",
        "\n",
        "You have to loop over them to sum occurences and return the resulted dict. To iterate on specific mappings, Python standard library provides some useful features in itertools module.\n",
        "\n",
        "itertools.chain(*mapped_values) could be used for treating consecutive sequences as a single sequence."
      ],
      "metadata": {
        "id": "i1xCn1wXHeOz"
      }
    },
    {
      "cell_type": "code",
      "source": [
        "import itertools, operator\n",
        "fruits = [('apple', 3), ('banana', 2), ('pear', 5), ('orange', 1)]\n",
        "vegetables = [('endive', 2), ('spinach', 1), ('celery', 5), ('carrot', 4)]\n",
        "getcount = operator.itemgetter(1)\n",
        "dict(sorted(itertools.chain(fruits,vegetables), key=getcount))"
      ],
      "metadata": {
        "id": "iChrtoNbHfEN"
      },
      "execution_count": null,
      "outputs": []
    },
    {
      "cell_type": "markdown",
      "source": [
        "Exercise 4.6\n",
        "Write the program that creates files, processes and use itertools.chain to get the merged word count dictionary.\n",
        "\n",
        "Exercise 4.7\n",
        "Create the wordcount function in order to accept several files as arguments and return the result"
      ],
      "metadata": {
        "id": "0rvJIU_EHhVR"
      }
    },
    {
      "cell_type": "code",
      "source": [
        "wordcount(file1, file2, file3, ...)"
      ],
      "metadata": {
        "id": "i6BZUmcJHjx8"
      },
      "execution_count": null,
      "outputs": []
    },
    {
      "cell_type": "markdown",
      "source": [
        "Hint: arbitrary argument lists\n",
        "\n",
        "Example of use of arbitrary argument list and arbitrary named arguments."
      ],
      "metadata": {
        "id": "yhl4t_eBHnr0"
      }
    },
    {
      "cell_type": "code",
      "source": [
        "def func( *args, **kwargs):\n",
        "    for arg in args:\n",
        "        print(arg)\n",
        "\n",
        "    print(kwargs)\n",
        "\n",
        "func( \"3\", [1,2], \"bonjour\", x = 4, y = \"y\")"
      ],
      "metadata": {
        "id": "7xDDjXZzHqQH"
      },
      "execution_count": null,
      "outputs": []
    },
    {
      "cell_type": "code",
      "source": [],
      "metadata": {
        "id": "bSZq7t1iHLs6"
      },
      "execution_count": null,
      "outputs": []
    },
    {
      "cell_type": "code",
      "execution_count": 1,
      "metadata": {
        "colab": {
          "base_uri": "https://localhost:8080/"
        },
        "id": "ReBvZNOtd-rL",
        "outputId": "c1bf48ea-fd17-48cc-b90d-8bb907cceae0"
      },
      "outputs": [
        {
          "output_type": "stream",
          "name": "stdout",
          "text": [
            "2 -24 -15 21\n"
          ]
        }
      ],
      "source": [
        "from operator import mul\n",
        "rdd1, rdd2 = [2, 6, -3, 7], [1, -4, 5, 3]\n",
        "res = map(mul, rdd1, rdd2 )\n",
        "print(*res)"
      ]
    },
    {
      "cell_type": "code",
      "source": [
        "from functools import reduce\n",
        "from operator import add\n",
        "rdd = list(range(1,6))\n",
        "reduce(add, rdd) # computes ((((1+2)+3)+4)+5)"
      ],
      "metadata": {
        "colab": {
          "base_uri": "https://localhost:8080/"
        },
        "id": "cIokKVUbeNam",
        "outputId": "6dbbc8f7-bb85-474f-9959-d35cbf0d7e5e"
      },
      "execution_count": 2,
      "outputs": [
        {
          "output_type": "execute_result",
          "data": {
            "text/plain": [
              "15"
            ]
          },
          "metadata": {},
          "execution_count": 2
        }
      ]
    },
    {
      "cell_type": "code",
      "source": [
        "from multiprocessing import cpu_count\n",
        "\n",
        "cpu_count()\n"
      ],
      "metadata": {
        "colab": {
          "base_uri": "https://localhost:8080/"
        },
        "id": "o71qT3D7e31i",
        "outputId": "0ae4a242-2ade-4542-b1b9-7b4799f7361e"
      },
      "execution_count": 3,
      "outputs": [
        {
          "output_type": "execute_result",
          "data": {
            "text/plain": [
              "2"
            ]
          },
          "metadata": {},
          "execution_count": 3
        }
      ]
    },
    {
      "cell_type": "markdown",
      "source": [],
      "metadata": {
        "id": "9kSjDMkcGFdU"
      }
    }
  ]
}