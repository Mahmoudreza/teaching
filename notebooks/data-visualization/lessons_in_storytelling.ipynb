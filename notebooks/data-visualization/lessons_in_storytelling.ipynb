{
 "cells": [
  {
   "cell_type": "markdown",
   "id": "f78b699a",
   "metadata": {},
   "source": [
    "# Lessons in Storytelling"
   ]
  },
  {
   "cell_type": "markdown",
   "id": "bdfe7ada",
   "metadata": {},
   "source": [
    "You should tell a story with the previous visuals that you had drawn for your data visualization project. In particular, you should do the following:\n",
    "- Focus on a few visuals that you had drawn in previous sessions.\n",
    "- Design a storyboard for communicating the results of your visuals to the audience.\n",
    "- Write a compelling story based on your storyboard with a clear beginning, middle, and end.\n",
    "- Critically evaluate your design decisions. In which scenarios does your story work fine? When and how does it need to be modified?"
   ]
  },
  {
   "cell_type": "code",
   "execution_count": null,
   "id": "a8d7e3f0",
   "metadata": {},
   "outputs": [],
   "source": []
  }
 ],
 "metadata": {
  "kernelspec": {
   "display_name": "Python 3 (ipykernel)",
   "language": "python",
   "name": "python3"
  },
  "language_info": {
   "codemirror_mode": {
    "name": "ipython",
    "version": 3
   },
   "file_extension": ".py",
   "mimetype": "text/x-python",
   "name": "python",
   "nbconvert_exporter": "python",
   "pygments_lexer": "ipython3",
   "version": "3.8.12"
  }
 },
 "nbformat": 4,
 "nbformat_minor": 5
}
