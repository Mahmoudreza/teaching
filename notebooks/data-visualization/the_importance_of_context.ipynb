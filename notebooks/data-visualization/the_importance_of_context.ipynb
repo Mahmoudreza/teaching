{
 "cells": [
  {
   "cell_type": "markdown",
   "id": "f78b699a",
   "metadata": {},
   "source": [
    "# The Importance of Context"
   ]
  },
  {
   "cell_type": "markdown",
   "id": "bdfe7ada",
   "metadata": {},
   "source": [
    "You should define the context for a data visualization project. In particular, you should articulate the following:\n",
    "- Who;\n",
    "    - To whom are you communicating?\n",
    "    - How do they perceive you?\n",
    "- What;\n",
    "    - What do you want your audience to know or do?\n",
    "    - How will you communicate with them?\n",
    "- How;\n",
    "    - How can you use data to help make your point?"
   ]
  },
  {
   "cell_type": "code",
   "execution_count": null,
   "id": "a8d7e3f0",
   "metadata": {},
   "outputs": [],
   "source": []
  }
 ],
 "metadata": {
  "kernelspec": {
   "display_name": "Python 3 (ipykernel)",
   "language": "python",
   "name": "python3"
  },
  "language_info": {
   "codemirror_mode": {
    "name": "ipython",
    "version": 3
   },
   "file_extension": ".py",
   "mimetype": "text/x-python",
   "name": "python",
   "nbconvert_exporter": "python",
   "pygments_lexer": "ipython3",
   "version": "3.8.12"
  }
 },
 "nbformat": 4,
 "nbformat_minor": 5
}
