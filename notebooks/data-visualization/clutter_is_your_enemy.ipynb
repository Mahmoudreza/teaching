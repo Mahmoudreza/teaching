{
 "cells": [
  {
   "cell_type": "markdown",
   "id": "f78b699a",
   "metadata": {},
   "source": [
    "# Clutter Is Your Enemy"
   ]
  },
  {
   "cell_type": "markdown",
   "id": "bdfe7ada",
   "metadata": {},
   "source": [
    "You should declutter the previous visuals that you had drawn for your data visualization project. In particular, you should do the following:\n",
    "- Focus on a few visuals that you had drawn in previous sessions.\n",
    "- Declutter your visuals by removing unnecessary visual elements step by step. \n",
    "- Critically evaluate your design decisions. Why does removing these visual clutters improve your visuals?"
   ]
  },
  {
   "cell_type": "code",
   "execution_count": null,
   "id": "a8d7e3f0",
   "metadata": {},
   "outputs": [],
   "source": []
  }
 ],
 "metadata": {
  "kernelspec": {
   "display_name": "Python 3 (ipykernel)",
   "language": "python",
   "name": "python3"
  },
  "language_info": {
   "codemirror_mode": {
    "name": "ipython",
    "version": 3
   },
   "file_extension": ".py",
   "mimetype": "text/x-python",
   "name": "python",
   "nbconvert_exporter": "python",
   "pygments_lexer": "ipython3",
   "version": "3.8.12"
  }
 },
 "nbformat": 4,
 "nbformat_minor": 5
}
