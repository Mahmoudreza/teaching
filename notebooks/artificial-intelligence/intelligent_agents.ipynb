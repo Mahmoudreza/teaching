{
 "cells": [
  {
   "attachments": {},
   "cell_type": "markdown",
   "id": "820b9137",
   "metadata": {},
   "source": [
    "# Intelligent Agents\n",
    "Complete the following tables about task environments and their properties. Write down your assumptions for each scenario.   \n",
    "\n",
    "## Task Environments\n",
    "| Agent Type | Performance Measure | Environment | Actuators | Sensors |\n",
    "| ---------- | ------------------- | ----------- | --------- | ------- |\n",
    "| Medical Diagnosis System | Healthy Patient, Reduced Costs| Patient, Hospital, Staff | Disply of Questions, Tests, Diagnoses, Treatments | Touchscreen/Voice Entry of Symptoms and Findings |\n",
    "| Satellite Image Analysis System | | | | |\n",
    "| Part-Picking Robot | | | | |\n",
    "| Refinery Controller | | | | |\n",
    "| Interactive English Tutor | | | | |\n",
    "\n",
    "## Properties of Task Environments\n",
    "| Task Environment | Observable | Agents | Deterministic | Episodic | Static | Discrete |\n",
    "| ---------------- | ---------- | ------ | ------------- | -------- | ------ | -------- |\n",
    "| Crossword Puzzle | Fully | Single | Deterministic | Sequential | Static | Discrete |\n",
    "| Chess with a Clock | | | | | | |\n",
    "| Poker | | | | | | |\n",
    "| Backgammon | | | | | | |\n",
    "| Taxi Driving | | | | | | |\n",
    "| Medical Diagnosis | | | | | | |\n",
    "| Image Analysis | | | | | | |\n",
    "| Part-Picking Robot | | | | | | |\n",
    "| Refinery Controller | | | | | | |\n",
    "| English Tutor | | | | | | |"
   ]
  }
 ],
 "metadata": {
  "kernelspec": {
   "display_name": "Python 3",
   "language": "python",
   "name": "python3"
  },
  "language_info": {
   "codemirror_mode": {
    "name": "ipython",
    "version": 3
   },
   "file_extension": ".py",
   "mimetype": "text/x-python",
   "name": "python",
   "nbconvert_exporter": "python",
   "pygments_lexer": "ipython3",
   "version": "3.8.5"
  }
 },
 "nbformat": 4,
 "nbformat_minor": 5
}
