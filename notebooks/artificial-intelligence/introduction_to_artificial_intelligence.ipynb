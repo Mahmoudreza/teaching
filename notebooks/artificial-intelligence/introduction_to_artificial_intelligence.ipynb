{
 "cells": [
  {
   "attachments": {},
   "cell_type": "markdown",
   "id": "820b9137",
   "metadata": {},
   "source": [
    "# Introduction to Artificial Intelligence\n",
    "Research on the web to discover which of the following tasks can be done by artificial intelligence at present. Find example algorithms/prototypes/products that can do these tasks.\n",
    "- Play a decent game of table tennis?\n",
    "- Play a decent game of Jeopardy?\n",
    "- Drive safely along a curving mountain road?\n",
    "- Drive safely along an avenue?\n",
    "- Buy a week's worth of groceries on the web?\n",
    "- Discover and prove a new mathematical theorem?\n",
    "- Converse successfully with another person for an hour?\n",
    "- Perform a surgical operation?\n",
    "- Translate spoken Chinese into spoken English in real-time?\n",
    "- Fold the laundry and put away the dishes?\n",
    "- Write an intentionally funny story?\n",
    "\n",
    "Research on the web about the following artificial intelligence milestones. Present them in class using some news headlines, photos, and videos. \n",
    "- Deep Blue (1997).\n",
    "- IBM Watson (2011).\n",
    "- Siri (2011)\n",
    "- Tesla Autopilot (2015).\n",
    "- AlphaGo (2016).\n",
    "- GPT-3 (2020).\n",
    "- Deepfake (ongoing)."
   ]
  },
  {
   "cell_type": "code",
   "execution_count": null,
   "id": "12c0ac58",
   "metadata": {},
   "outputs": [],
   "source": []
  }
 ],
 "metadata": {
  "kernelspec": {
   "display_name": "Python 3",
   "language": "python",
   "name": "python3"
  },
  "language_info": {
   "codemirror_mode": {
    "name": "ipython",
    "version": 3
   },
   "file_extension": ".py",
   "mimetype": "text/x-python",
   "name": "python",
   "nbconvert_exporter": "python",
   "pygments_lexer": "ipython3",
   "version": "3.8.5"
  }
 },
 "nbformat": 4,
 "nbformat_minor": 5
}
