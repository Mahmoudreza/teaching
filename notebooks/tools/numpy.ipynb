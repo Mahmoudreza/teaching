{
 "cells": [
  {
   "attachments": {},
   "cell_type": "markdown",
   "id": "separate-plymouth",
   "metadata": {},
   "source": [
    "# NumPy"
   ]
  },
  {
   "cell_type": "code",
   "execution_count": null,
   "id": "danish-interference",
   "metadata": {},
   "outputs": [],
   "source": [
    "import numpy as np"
   ]
  },
  {
   "cell_type": "markdown",
   "id": "extraordinary-recognition",
   "metadata": {},
   "source": [
    "## Create an Array\n",
    "Write a Python program that creates an integer array with 4 elements of type unsigned int16 and prints the shape, the number of dimensions, and the length of each element in bytes."
   ]
  },
  {
   "cell_type": "code",
   "execution_count": null,
   "id": "auburn-characterization",
   "metadata": {},
   "outputs": [],
   "source": []
  },
  {
   "cell_type": "markdown",
   "id": "grand-house",
   "metadata": {},
   "source": [
    "## Create a 2D Array\n",
    "Write a Python program that creates a $ 5 \\times 2 $ integer array from a range between 100 to 200 such that the difference between each element is 10."
   ]
  },
  {
   "cell_type": "code",
   "execution_count": null,
   "id": "great-organization",
   "metadata": {},
   "outputs": [],
   "source": []
  },
  {
   "cell_type": "markdown",
   "id": "modern-thong",
   "metadata": {},
   "source": [
    "## Select Rows and Columns\n",
    "Write a Python program to return the 2D array of odd rows and even columns from the given numpy array."
   ]
  },
  {
   "cell_type": "code",
   "execution_count": null,
   "id": "contained-burlington",
   "metadata": {},
   "outputs": [],
   "source": [
    "a = np.array([[3 ,6, 9, 12], [15 ,18, 21, 24], [27 ,30, 33, 36], [39 ,42, 45, 48], [51 ,54, 57, 60]])\n",
    "a"
   ]
  },
  {
   "cell_type": "code",
   "execution_count": null,
   "id": "heard-consultation",
   "metadata": {},
   "outputs": [],
   "source": []
  },
  {
   "cell_type": "markdown",
   "id": "close-collector",
   "metadata": {},
   "source": [
    "## Compute Numerical Operations\n",
    "Write a Python program that computes the sum, the element-wise multiplication, and the matrix multiplication of the given numpy arrays. "
   ]
  },
  {
   "cell_type": "code",
   "execution_count": null,
   "id": "premium-compiler",
   "metadata": {},
   "outputs": [],
   "source": [
    "a = np.array([[5, 6], [21, 18]])\n",
    "b = np.array([[15, 33], [4, 7]])\n",
    "a, b"
   ]
  },
  {
   "cell_type": "code",
   "execution_count": null,
   "id": "activated-occurrence",
   "metadata": {},
   "outputs": [],
   "source": []
  },
  {
   "cell_type": "markdown",
   "id": "fabulous-identification",
   "metadata": {},
   "source": [
    "## Split and Concatenate an Array\n",
    "Write a Python program to split the given $ 8 \\times 3 $ array into 4 equal-sized $ 2 \\times 3 $ sub-arrays. Then, concatenate the splitted arrays vertically to rebuilt the original array."
   ]
  },
  {
   "cell_type": "code",
   "execution_count": null,
   "id": "encouraging-ultimate",
   "metadata": {},
   "outputs": [],
   "source": [
    "a = np.arange(10, 34, 1).reshape(8, 3)\n",
    "a"
   ]
  },
  {
   "cell_type": "code",
   "execution_count": null,
   "id": "tested-village",
   "metadata": {},
   "outputs": [],
   "source": []
  },
  {
   "cell_type": "markdown",
   "id": "super-vietnam",
   "metadata": {},
   "source": [
    "## Replace a Column\n",
    "Write a Python program that replaces the second column from the given array with the new given column."
   ]
  },
  {
   "cell_type": "code",
   "execution_count": null,
   "id": "negative-techno",
   "metadata": {},
   "outputs": [],
   "source": [
    "a = np.array([[34, 43, 73], [82, 22, 12], [53, 94, 66]]) \n",
    "new_column = np.array([[10, 10, 10]])\n",
    "a, new_column"
   ]
  },
  {
   "cell_type": "code",
   "execution_count": null,
   "id": "undefined-notion",
   "metadata": {},
   "outputs": [],
   "source": []
  },
  {
   "cell_type": "markdown",
   "id": "identical-turner",
   "metadata": {},
   "source": [
    "## Sort Rows and Columns\n",
    "Write a Python program to sort the given 2D array in 2 scenarios: (1) Sort the rows; (2) Sort the columns.  "
   ]
  },
  {
   "cell_type": "code",
   "execution_count": null,
   "id": "employed-lawsuit",
   "metadata": {},
   "outputs": [],
   "source": [
    "a = np.array([[34, 43, 73], [82, 22, 12], [53, 94, 66]])\n",
    "a"
   ]
  },
  {
   "cell_type": "code",
   "execution_count": null,
   "id": "computational-spotlight",
   "metadata": {},
   "outputs": [],
   "source": []
  }
 ],
 "metadata": {
  "kernelspec": {
   "display_name": "Python 3",
   "language": "python",
   "name": "python3"
  },
  "language_info": {
   "codemirror_mode": {
    "name": "ipython",
    "version": 3
   },
   "file_extension": ".py",
   "mimetype": "text/x-python",
   "name": "python",
   "nbconvert_exporter": "python",
   "pygments_lexer": "ipython3",
   "version": "3.8.5"
  }
 },
 "nbformat": 4,
 "nbformat_minor": 5
}
