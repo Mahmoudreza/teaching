{
 "cells": [
  {
   "cell_type": "markdown",
   "id": "f78b699a",
   "metadata": {},
   "source": [
    "# Tableau"
   ]
  },
  {
   "cell_type": "markdown",
   "id": "bdfe7ada",
   "metadata": {},
   "source": [
    "You should redraw the previous visuals of your data visualization project using Tableau. In particular, you should do the following:\n",
    "- Focus on a few visuals that you had drawn in previous sessions.\n",
    "- Redraw these visuals using different features of Tableau.\n",
    "    - Create multiple worksheets including various types of charts, such as bar plots, scatter plots, line plots, histograms, heat maps, and geo maps.\n",
    "    - Create dashboards using the above worksheets.\n",
    "    - Create stories using the above worksheets and dashboards.\n",
    "- Insert the screenshots of your visuals into this notebook and write a compelling story for them.\n",
    "- Critically evaluate your design decisions. How do you compare Tableau to other data visualization technologies?"
   ]
  },
  {
   "cell_type": "code",
   "execution_count": null,
   "id": "a8d7e3f0",
   "metadata": {},
   "outputs": [],
   "source": []
  }
 ],
 "metadata": {
  "kernelspec": {
   "display_name": "Python 3 (ipykernel)",
   "language": "python",
   "name": "python3"
  },
  "language_info": {
   "codemirror_mode": {
    "name": "ipython",
    "version": 3
   },
   "file_extension": ".py",
   "mimetype": "text/x-python",
   "name": "python",
   "nbconvert_exporter": "python",
   "pygments_lexer": "ipython3",
   "version": "3.8.12"
  }
 },
 "nbformat": 4,
 "nbformat_minor": 5
}
