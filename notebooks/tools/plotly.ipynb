{
 "cells": [
  {
   "attachments": {},
   "cell_type": "markdown",
   "id": "occupational-dairy",
   "metadata": {},
   "source": [
    "# Plotly\n",
    "You should visualize the `gapminder` dataset."
   ]
  },
  {
   "cell_type": "code",
   "execution_count": null,
   "id": "bf54dca1",
   "metadata": {},
   "outputs": [],
   "source": [
    "import plotly\n",
    "import plotly.express as px\n",
    "import plotly.graph_objects as go"
   ]
  },
  {
   "cell_type": "code",
   "execution_count": null,
   "id": "384cba62",
   "metadata": {},
   "outputs": [],
   "source": [
    "df = px.data.gapminder()\n",
    "df.head()"
   ]
  },
  {
   "attachments": {},
   "cell_type": "markdown",
   "id": "41636f06",
   "metadata": {},
   "source": [
    "## Draw a Histogram\n",
    "Draw a histogram to visualize the distribution of populations in 2007. Decorate the plot properly. "
   ]
  },
  {
   "cell_type": "code",
   "execution_count": null,
   "id": "16cbe595",
   "metadata": {},
   "outputs": [],
   "source": []
  },
  {
   "attachments": {},
   "cell_type": "markdown",
   "id": "b91d197f",
   "metadata": {},
   "source": [
    "## Draw a Line Plot\n",
    "Draw a line plot to compare the average life expectancy of continents over time. Decorate the plot properly."
   ]
  },
  {
   "cell_type": "code",
   "execution_count": null,
   "id": "28f3a2d0",
   "metadata": {},
   "outputs": [],
   "source": []
  },
  {
   "attachments": {},
   "cell_type": "markdown",
   "id": "65c7d018",
   "metadata": {},
   "source": [
    "## Draw a Scatter Plot\n",
    "Draw a scatter plot to compare the GDP and life expectancy of countries in 2007. Decorate the plot properly."
   ]
  },
  {
   "cell_type": "code",
   "execution_count": null,
   "id": "f4772293",
   "metadata": {},
   "outputs": [],
   "source": []
  },
  {
   "attachments": {},
   "cell_type": "markdown",
   "id": "68bc0b36",
   "metadata": {},
   "source": [
    "## Draw a Bar Plot\n",
    "Draw a bar plot to compare GDP of countries in 2007. Decorate the plot properly."
   ]
  },
  {
   "cell_type": "code",
   "execution_count": null,
   "id": "be4c377b",
   "metadata": {},
   "outputs": [],
   "source": []
  },
  {
   "attachments": {},
   "cell_type": "markdown",
   "id": "4a98b4d6",
   "metadata": {},
   "source": [
    "## Draw a Map Plot\n",
    "Draw a map plot to visualize the population, life expectancy, and GDP of countries in 2007. Decorate the plot properly. "
   ]
  },
  {
   "cell_type": "code",
   "execution_count": null,
   "id": "89cb4ed0",
   "metadata": {},
   "outputs": [],
   "source": []
  },
  {
   "attachments": {},
   "cell_type": "markdown",
   "id": "african-meeting",
   "metadata": {},
   "source": [
    "## Create a Dashboard\n",
    "Use `dash` to visualize your above figures in a dashboard. Decorate your dashboard properly.  "
   ]
  },
  {
   "cell_type": "code",
   "execution_count": null,
   "id": "incredible-impossible",
   "metadata": {},
   "outputs": [],
   "source": []
  }
 ],
 "metadata": {
  "kernelspec": {
   "display_name": "Python 3",
   "language": "python",
   "name": "python3"
  },
  "language_info": {
   "codemirror_mode": {
    "name": "ipython",
    "version": 3
   },
   "file_extension": ".py",
   "mimetype": "text/x-python",
   "name": "python",
   "nbconvert_exporter": "python",
   "pygments_lexer": "ipython3",
   "version": "3.11.2"
  }
 },
 "nbformat": 4,
 "nbformat_minor": 5
}
