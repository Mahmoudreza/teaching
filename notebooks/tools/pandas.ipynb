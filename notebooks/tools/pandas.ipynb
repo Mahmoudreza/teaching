{
 "cells": [
  {
   "attachments": {},
   "cell_type": "markdown",
   "id": "departmental-premises",
   "metadata": {},
   "source": [
    "# Pandas\n",
    "Here, we use an Automobile Dataset that contains different characteristics of an automobile such as body-style, wheel-base, engine-type, price, mileage, horsepower, etc."
   ]
  },
  {
   "cell_type": "code",
   "execution_count": null,
   "id": "acknowledged-mission",
   "metadata": {},
   "outputs": [],
   "source": [
    "import pandas as pd"
   ]
  },
  {
   "cell_type": "markdown",
   "id": "agreed-sister",
   "metadata": {},
   "source": [
    "# Load and Show the Dataset\n",
    "Write a Python program to load the dataset from the `automobile.csv` file, show the data types of its columns, and also show the first 3 rows of the dataset."
   ]
  },
  {
   "cell_type": "code",
   "execution_count": null,
   "id": "frequent-fiber",
   "metadata": {},
   "outputs": [],
   "source": []
  },
  {
   "cell_type": "markdown",
   "id": "radical-apparatus",
   "metadata": {},
   "source": [
    "## Clean the Dataset\n",
    "Write a Python program to count the number of null values per each attribute. Then, remove all rows that have any missing values."
   ]
  },
  {
   "cell_type": "code",
   "execution_count": null,
   "id": "hired-request",
   "metadata": {},
   "outputs": [],
   "source": []
  },
  {
   "cell_type": "markdown",
   "id": "involved-celebration",
   "metadata": {},
   "source": [
    "## Find the Maximum\n",
    "Write a Python program to find the name of the company whose car is the most expensive one."
   ]
  },
  {
   "cell_type": "code",
   "execution_count": null,
   "id": "flush-quantum",
   "metadata": {},
   "outputs": [],
   "source": []
  },
  {
   "cell_type": "markdown",
   "id": "delayed-relief",
   "metadata": {},
   "source": [
    "## Select Specific Rows\n",
    "Write a Python program to show all Toyota cars whose number of cylinders are equal to four."
   ]
  },
  {
   "cell_type": "code",
   "execution_count": null,
   "id": "competent-shuttle",
   "metadata": {},
   "outputs": [],
   "source": []
  },
  {
   "cell_type": "markdown",
   "id": "cardiovascular-engine",
   "metadata": {},
   "source": [
    "## Count per Category\n",
    "Write a Python program to count the number of cars that each company has."
   ]
  },
  {
   "cell_type": "code",
   "execution_count": null,
   "id": "mobile-celebrity",
   "metadata": {},
   "outputs": [],
   "source": []
  },
  {
   "cell_type": "markdown",
   "id": "duplicate-beijing",
   "metadata": {},
   "source": [
    "## Aggregate per Category\n",
    "Write a Python program to find each company's highest car price."
   ]
  },
  {
   "cell_type": "code",
   "execution_count": null,
   "id": "requested-surveillance",
   "metadata": {},
   "outputs": [],
   "source": []
  },
  {
   "cell_type": "markdown",
   "id": "seven-bicycle",
   "metadata": {},
   "source": [
    "## Sort by Columns\n",
    "Write a Python program to sort the cars by their price, from the highest to lowest."
   ]
  },
  {
   "cell_type": "code",
   "execution_count": null,
   "id": "green-joining",
   "metadata": {},
   "outputs": [],
   "source": []
  },
  {
   "cell_type": "markdown",
   "id": "sitting-excess",
   "metadata": {},
   "source": [
    "## Merge two Datasets\n",
    "Write a Python program to merge the previous dataset with a new given dataset to add a country column to our dataset."
   ]
  },
  {
   "cell_type": "code",
   "execution_count": null,
   "id": "impressive-incident",
   "metadata": {},
   "outputs": [],
   "source": [
    "countries = pd.DataFrame({\"producer\": ['alfa-romero', 'audi', 'bmw', 'chevrolet', 'dodge', 'honda', \n",
    "                                       'isuzu', 'jaguar', 'mazda', 'mercedes-benz', 'mitsubishi', \n",
    "                                       'nissan', 'porsche', 'toyota', 'volkswagen', 'volvo'],\n",
    "                          \"country\": [\"Italy\", \"Germany\", \"Germany\", \"US\", \"US\", \"Japan\", \"Japan\", \n",
    "                                     \"UK\", \"Japan\", \"Germany\", \"Japan\", \"Japan\", \"Germany\", \"Japan\", \n",
    "                                      \"Germany\", \"Sweden\"]\n",
    "                         })\n",
    "countries.head()"
   ]
  },
  {
   "cell_type": "code",
   "execution_count": null,
   "id": "comprehensive-buddy",
   "metadata": {},
   "outputs": [],
   "source": []
  },
  {
   "cell_type": "markdown",
   "id": "south-zimbabwe",
   "metadata": {},
   "source": [
    "## Apply a Function\n",
    "Write a Python program that transforms the column \"num-of-cylinders\" from strig to integer. For example, all the \"four\" values in this column should be changed to 4."
   ]
  },
  {
   "cell_type": "code",
   "execution_count": null,
   "id": "mediterranean-mozambique",
   "metadata": {},
   "outputs": [],
   "source": []
  },
  {
   "attachments": {},
   "cell_type": "markdown",
   "id": "8ba78e02",
   "metadata": {},
   "source": [
    "## Draw a Scatter Plot\n",
    "Write a Python program that draws a scatter plot to visualize the relationship between \"average-mileage\" and \"price\" attributes. "
   ]
  },
  {
   "cell_type": "code",
   "execution_count": null,
   "id": "06a4dd5f",
   "metadata": {},
   "outputs": [],
   "source": []
  },
  {
   "attachments": {},
   "cell_type": "markdown",
   "id": "c3e62d25",
   "metadata": {},
   "source": [
    "## Draw a Bar Plot\n",
    "Write a Python program that draws a bar plot to visualize the average price of cars for each company. "
   ]
  },
  {
   "cell_type": "code",
   "execution_count": null,
   "id": "567f8182",
   "metadata": {},
   "outputs": [],
   "source": []
  }
 ],
 "metadata": {
  "kernelspec": {
   "display_name": "Python 3",
   "language": "python",
   "name": "python3"
  },
  "language_info": {
   "codemirror_mode": {
    "name": "ipython",
    "version": 3
   },
   "file_extension": ".py",
   "mimetype": "text/x-python",
   "name": "python",
   "nbconvert_exporter": "python",
   "pygments_lexer": "ipython3",
   "version": "3.8.5"
  }
 },
 "nbformat": 4,
 "nbformat_minor": 5
}
