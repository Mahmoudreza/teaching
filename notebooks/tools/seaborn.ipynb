{
 "cells": [
  {
   "attachments": {},
   "cell_type": "markdown",
   "id": "occupational-dairy",
   "metadata": {},
   "source": [
    "# Seaborn\n",
    "You should visualize and analyze the `titanic` dataset. "
   ]
  },
  {
   "cell_type": "code",
   "execution_count": null,
   "id": "39c9e652",
   "metadata": {},
   "outputs": [],
   "source": [
    "import numpy as np\n",
    "import pandas as pd\n",
    "import matplotlib.pyplot as plt\n",
    "import seaborn as sns\n",
    "sns.set()"
   ]
  },
  {
   "cell_type": "code",
   "execution_count": null,
   "id": "recorded-history",
   "metadata": {},
   "outputs": [],
   "source": [
    "df = sns.load_dataset(\"titanic\")\n",
    "df.head()"
   ]
  },
  {
   "attachments": {},
   "cell_type": "markdown",
   "id": "238cb5fa",
   "metadata": {},
   "source": [
    "## Draw a Histogram\n",
    "Draw a histogram to visualize the distribution of the age of passengers. Decorate the plot properly."
   ]
  },
  {
   "cell_type": "code",
   "execution_count": null,
   "id": "58db2101",
   "metadata": {},
   "outputs": [],
   "source": []
  },
  {
   "attachments": {},
   "cell_type": "markdown",
   "id": "31de8dc0",
   "metadata": {},
   "source": [
    "## Draw a Bar Plot\n",
    "Draw a bar plot with error bars to visualize the mean (bar height) and standard deviation (error bar) of the age of passengers for different genders. Decorate the plot properly."
   ]
  },
  {
   "cell_type": "code",
   "execution_count": null,
   "id": "a2f3b086",
   "metadata": {},
   "outputs": [],
   "source": []
  },
  {
   "attachments": {},
   "cell_type": "markdown",
   "id": "23a4cd32",
   "metadata": {},
   "source": [
    "## Draw a Count Plot\n",
    "Draw a count plot to visualize the number of passengers with different ticket classes. Decorate the plot properly."
   ]
  },
  {
   "cell_type": "code",
   "execution_count": null,
   "id": "f149fd0a",
   "metadata": {},
   "outputs": [],
   "source": []
  },
  {
   "attachments": {},
   "cell_type": "markdown",
   "id": "5199573c",
   "metadata": {},
   "source": [
    "## Draw a Joint Plot\n",
    "Draw a joint plot to visualize the relationship between the age and fare of passengers. Decorate the plot properly."
   ]
  },
  {
   "cell_type": "code",
   "execution_count": null,
   "id": "e7ee1779",
   "metadata": {},
   "outputs": [],
   "source": []
  },
  {
   "attachments": {},
   "cell_type": "markdown",
   "id": "4637253d",
   "metadata": {},
   "source": [
    "## Draw a Box Plot\n",
    "Draw a box plot to visualize the relationship between passengers' fares and whether they survived or not. Decorate the plot properly."
   ]
  },
  {
   "cell_type": "code",
   "execution_count": null,
   "id": "00ed9f1c",
   "metadata": {},
   "outputs": [],
   "source": []
  },
  {
   "attachments": {},
   "cell_type": "markdown",
   "id": "9c77cfb9",
   "metadata": {},
   "source": [
    "## Draw a Heatmap\n",
    "Draw a heatmap to visualize the correlation of attributes. Decorate the plot properly."
   ]
  },
  {
   "cell_type": "code",
   "execution_count": null,
   "id": "fa61c68c",
   "metadata": {},
   "outputs": [],
   "source": []
  },
  {
   "attachments": {},
   "cell_type": "markdown",
   "id": "2432f9fe",
   "metadata": {},
   "source": [
    "## Draw a Facet Grid\n",
    "Draw a facet grid to visualize the distribution of the `alive` attribute with respect to the `who` attribute (on columns) and the `alone` attribute (on rows). Decorate the plot properly."
   ]
  },
  {
   "cell_type": "code",
   "execution_count": null,
   "id": "3310dad7",
   "metadata": {},
   "outputs": [],
   "source": []
  },
  {
   "attachments": {},
   "cell_type": "markdown",
   "id": "0094a70e",
   "metadata": {},
   "source": [
    "## Draw a Pair Plot\n",
    "Draw a pair plot to visualize the relationship between each pair of attributes. Decorate the plot properly."
   ]
  },
  {
   "cell_type": "code",
   "execution_count": null,
   "id": "15bb5c5f",
   "metadata": {},
   "outputs": [],
   "source": []
  }
 ],
 "metadata": {
  "kernelspec": {
   "display_name": "Python 3 (ipykernel)",
   "language": "python",
   "name": "python3"
  },
  "language_info": {
   "codemirror_mode": {
    "name": "ipython",
    "version": 3
   },
   "file_extension": ".py",
   "mimetype": "text/x-python",
   "name": "python",
   "nbconvert_exporter": "python",
   "pygments_lexer": "ipython3",
   "version": "3.11.2"
  }
 },
 "nbformat": 4,
 "nbformat_minor": 5
}
