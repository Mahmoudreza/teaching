{
 "cells": [
  {
   "attachments": {},
   "cell_type": "markdown",
   "id": "occupational-dairy",
   "metadata": {},
   "source": [
    "# Matplotlib"
   ]
  },
  {
   "cell_type": "code",
   "execution_count": 42,
   "id": "technological-florist",
   "metadata": {},
   "outputs": [],
   "source": [
    "import numpy as np\n",
    "import matplotlib as mpl\n",
    "import matplotlib.pyplot as plt\n",
    "\n",
    "plt.style.use(\"ggplot\")"
   ]
  },
  {
   "attachments": {},
   "cell_type": "markdown",
   "id": "adjacent-suffering",
   "metadata": {},
   "source": [
    "### Plot with Different Interfaces\n",
    "Plot the function $ y = sin(x) * cos(x) $ using both MATLAB-style and object-oriented interfaces. Decorate the plots properly and save them as png files."
   ]
  },
  {
   "cell_type": "code",
   "execution_count": null,
   "id": "approximate-cookie",
   "metadata": {},
   "outputs": [],
   "source": []
  },
  {
   "attachments": {},
   "cell_type": "markdown",
   "id": "agricultural-kelly",
   "metadata": {},
   "source": [
    "### Plot Multiple Functions\n",
    "Draw three plots in a row. The first one show draw the function $ y = log_2x $. The second one show draw the function $ y = \\sqrt{x} $. The third one should draw both the functions together. Decorate the plots properly."
   ]
  },
  {
   "cell_type": "code",
   "execution_count": null,
   "id": "suffering-offset",
   "metadata": {},
   "outputs": [],
   "source": []
  },
  {
   "attachments": {},
   "cell_type": "markdown",
   "id": "powered-measure",
   "metadata": {},
   "source": [
    "### Plot a Bar Chart with Error Bars\n",
    "Plot a bar chart with error bars for each feature of the iris dataset. The height of each bar should represent the mean of the feature and the error bar should represent the standard deviation of the feature. Decorate the plot properly."
   ]
  },
  {
   "cell_type": "code",
   "execution_count": 29,
   "id": "electrical-locking",
   "metadata": {},
   "outputs": [],
   "source": [
    "import sklearn.datasets\n",
    "iris = sklearn.datasets.load_iris().data"
   ]
  },
  {
   "cell_type": "code",
   "execution_count": null,
   "id": "sought-encoding",
   "metadata": {},
   "outputs": [],
   "source": []
  },
  {
   "attachments": {},
   "cell_type": "markdown",
   "id": "greenhouse-graphics",
   "metadata": {},
   "source": [
    "### Draw Subplots\n",
    "Plot a 2x2 grid. Each subplot of this grid should draw the histogram of one feature of the iris dataset. Decorate the plot properly."
   ]
  },
  {
   "cell_type": "code",
   "execution_count": 35,
   "id": "pending-cheese",
   "metadata": {},
   "outputs": [],
   "source": [
    "import sklearn.datasets\n",
    "iris = sklearn.datasets.load_iris().data"
   ]
  },
  {
   "cell_type": "code",
   "execution_count": null,
   "id": "automatic-modification",
   "metadata": {},
   "outputs": [],
   "source": []
  },
  {
   "attachments": {},
   "cell_type": "markdown",
   "id": "occupied-ground",
   "metadata": {},
   "source": [
    "### Draw a 3D Plot \n",
    "Visualize the data points of the iris dataset in a 3D space using the first three features. Decorate the figure properly."
   ]
  },
  {
   "cell_type": "code",
   "execution_count": 38,
   "id": "beneficial-washer",
   "metadata": {},
   "outputs": [],
   "source": [
    "import sklearn.datasets\n",
    "iris = sklearn.datasets.load_iris().data"
   ]
  },
  {
   "cell_type": "code",
   "execution_count": null,
   "id": "academic-turkey",
   "metadata": {},
   "outputs": [],
   "source": []
  }
 ],
 "metadata": {
  "kernelspec": {
   "display_name": "Python 3",
   "language": "python",
   "name": "python3"
  },
  "language_info": {
   "codemirror_mode": {
    "name": "ipython",
    "version": 3
   },
   "file_extension": ".py",
   "mimetype": "text/x-python",
   "name": "python",
   "nbconvert_exporter": "python",
   "pygments_lexer": "ipython3",
   "version": "3.11.2"
  }
 },
 "nbformat": 4,
 "nbformat_minor": 5
}
