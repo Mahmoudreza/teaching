{
  "nbformat": 4,
  "nbformat_minor": 0,
  "metadata": {
    "colab": {
      "provenance": []
    },
    "kernelspec": {
      "name": "python3",
      "display_name": "Python 3"
    },
    "language_info": {
      "name": "python"
    }
  },
  "cells": [
    {
      "cell_type": "markdown",
      "source": [
        "Analysis of a social media network over time: Choose a social media platform (e.g., Twitter, Facebook) and collect data on the network over time (e.g., monthly or weekly). Use tools like Gephi or Python libraries like NetworkX to visualize and analyze changes in the network over time, such as the emergence of new communities or the growth of certain user groups.\n",
        "\n",
        "Analysis of a friendship network over time: Collect data on a friendship network (e.g., a high school or college friend group) over time. Use tools like Gephi or Python libraries like igraph to visualize and analyze changes in the network over time, such as changes in the strength of ties between individuals or the emergence of new subgroups.\n",
        "\n",
        "Analysis of a collaboration network over time: Collect data on a collaboration network (e.g., a team working on a project) over time. Use tools like Gephi or Python libraries like NetworkX to visualize and analyze changes in the network over time, such as the emergence of new collaborations or changes in the centrality of certain team members.\n",
        "\n",
        "Analysis of a citation network over time: Collect data on a citation network (e.g., a network of academic publications and citations) over time. Use tools like Gephi or Python libraries like igraph to visualize and analyze changes in the network over time, such as the emergence of new research topics or the growth of certain research communities."
      ],
      "metadata": {
        "id": "eILbn7TW-E8N"
      }
    },
    {
      "cell_type": "code",
      "execution_count": null,
      "metadata": {
        "id": "V5oei_YcJCjS"
      },
      "outputs": [],
      "source": []
    }
  ]
}