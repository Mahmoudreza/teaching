{
 "cells": [
  {
   "cell_type": "code",
   "execution_count": null,
   "metadata": {},
   "outputs": [],
   "source": [
    "pip install networkx\n",
    "import networkx as nx\n",
    "import matplotlib.pyplot as plt\n",
    "\n",
    "# Create a graph\n",
    "G = nx.Graph()\n",
    "\n",
    "# Add nodes\n",
    "G.add_nodes_from([1, 2, 3, 4])\n",
    "\n",
    "# Add edges\n",
    "G.add_edges_from([(1, 2), (2, 3), (3, 4), (4, 1)])\n",
    "\n",
    "# Visualize the graph\n",
    "nx.draw(G, with_labels=True, font_weight='bold')\n",
    "\n",
    "# Display the plot\n",
    "plt.show()"
   ]
  },
  {
   "cell_type": "code",
   "execution_count": null,
   "metadata": {},
   "outputs": [],
   "source": [
    "pip install networkx pandas"
   ]
  },
  {
   "cell_type": "code",
   "execution_count": null,
   "metadata": {},
   "outputs": [],
   "source": [
    "# from scipy.io import mmread\n",
    "# import pandas as pd\n",
    "\n",
    "# # Replace 'your_matrix.mtx' with the actual file name\n",
    "# matrix = mmread('soc-karate.mtx')\n",
    "\n",
    "# # Convert the sparse matrix to a Pandas DataFrame\n",
    "# df = pd.DataFrame(matrix.toarray())\n",
    "\n",
    "# # Write the DataFrame to a CSV file\n",
    "# df.to_csv('soc-karate.csv', index=False)\n",
    "# df\n",
    "# import pandas as pd\n",
    "\n",
    "# # Read the adjacency matrix from CSV\n",
    "# adjacency_matrix = pd.read_csv('soc-karate.csv', index_col=0)\n",
    "\n",
    "# # Convert the adjacency matrix to an edge list\n",
    "# edge_list = pd.DataFrame(columns=['source', 'target'])\n",
    "\n",
    "# for col in adjacency_matrix.columns:\n",
    "#     for index, value in adjacency_matrix[col].items():\n",
    "#         if value == 1:\n",
    "#             edge_list = edge_list.append({'source': index, 'target': col}, ignore_index=True)\n",
    "\n",
    "# # Write the edge list to CSV\n",
    "# edge_list.to_csv('edge_list.csv', index=False)\n",
    "# edge_list"
   ]
  },
  {
   "cell_type": "code",
   "execution_count": null,
   "metadata": {},
   "outputs": [],
   "source": [
    "import networkx as nx\n",
    "import pandas as pd\n",
    "import matplotlib.pyplot as plt\n",
    "\n",
    "# Read the edge list from CSV\n",
    "edge_list = pd.read_csv('edge_list.csv')\n",
    "\n",
    "# Create a graph\n",
    "G = nx.from_pandas_edgelist(edge_list, 'source', 'target')\n",
    "\n",
    "# Visualize the graph\n",
    "nx.draw(G, with_labels=True, font_weight='bold')\n",
    "\n",
    "# Display the plot\n",
    "plt.show()"
   ]
  }
 ],
 "metadata": {
  "language_info": {
   "name": "python"
  },
  "orig_nbformat": 4
 },
 "nbformat": 4,
 "nbformat_minor": 2
}
