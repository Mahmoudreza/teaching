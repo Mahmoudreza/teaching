
{
 "cells": [
  {
   "cell_type": "markdown",
   "id": "820b9137",
   "metadata": {},
   "source": [
    "# Discrimination Discovery using KNN\n",
"Downlowd bank data from here http://archive.ics.uci.edu/ml/datasets/Bank+Marketing \n \n",
"bank.csv with 10% of the examples and 17 inputs, randomly selected from 3 (older version of this dataset with less inputs). The smallest datasets are provided to test more computationally demanding machine learning algorithms (e.g., SVM). The classification goal is to predict if the client will subscribe (yes/no) a term deposit (variable y). \n \n",
"Apply KNN to classify the data \n \n",
"Discuss if there is discrimination?"
   ]
  },
  {
   "cell_type": "code",
   "execution_count": null,
   "id": "12c0ac58",
   "metadata": {},
   "outputs": [],
   "source": []
  }
 ],
 "metadata": {
  "kernelspec": {
   "display_name": "Python 3",
   "language": "python",
   "name": "python3"
  },
  "language_info": {
   "codemirror_mode": {
    "name": "ipython",
    "version": 3
   },
   "file_extension": ".py",
   "mimetype": "text/x-python",
   "name": "python",
   "nbconvert_exporter": "python",
   "pygments_lexer": "ipython3",
   "version": "3.8.5"
  }
 },
 "nbformat": 4,
 "nbformat_minor": 5
}
