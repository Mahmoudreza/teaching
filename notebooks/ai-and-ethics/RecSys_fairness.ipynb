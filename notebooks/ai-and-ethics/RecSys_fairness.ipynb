{
 "cells": [
  {
   "cell_type": "markdown",
   "id": "820b9137",
   "metadata": {},
   "source": [
    "# Fairness in Recommendation System\n\n",
    "Download 'AirBnB 10,201 houses gender of host data set' from AirBnB. https://insideairbnb.com \n\n",
    "Check Fairness in Ranking methods \n\n",
    "Check Recommendation groupe fariness for data set in paper 'Fairness-aware group recommendation with pareto-efficiency' \n"
   ]
  },
  {
   "cell_type": "code",
   "execution_count": null,
   "id": "12c0ac58",
   "metadata": {},
   "outputs": [],
   "source": []
  }
 ],
 "metadata": {
  "kernelspec": {
   "display_name": "Python 3",
   "language": "python",
   "name": "python3"
  },
  "language_info": {
   "codemirror_mode": {
    "name": "ipython",
    "version": 3
   },
   "file_extension": ".py",
   "mimetype": "text/x-python",
   "name": "python",
   "nbconvert_exporter": "python",
   "pygments_lexer": "ipython3",
   "version": "3.8.5"
  }
 },
 "nbformat": 4,
 "nbformat_minor": 5
}
