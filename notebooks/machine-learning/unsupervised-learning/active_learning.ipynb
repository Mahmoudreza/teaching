{
 "cells": [
  {
   "cell_type": "markdown",
   "id": "korean-wednesday",
   "metadata": {},
   "source": [
    "# Active Learning\n",
    "You should build an end-to-end machine learning pipeline using an active learning component. In particular, you should do the following:\n",
    "- Load the `mnist` dataset using [Pandas](https://pandas.pydata.org/docs/reference/api/pandas.read_csv.html). You can find this dataset in the datasets folder.\n",
    "- Split the dataset into training and test sets using [Scikit-Learn](https://scikit-learn.org/stable/modules/generated/sklearn.model_selection.train_test_split.html).\n",
    "- Assume that the training set is not labeled. You have a labeling budgets $ B $ to label exactly $ B $ sampled training data points. Compare the random sampling, uncertainty sampling, and clustering-based sampling strategies.\n",
    "    - The random sampling strategy samples and labels $ B $ random data points from the training set. \n",
    "    - The uncertainty sampling strategy is an active learning strategy to sample and label $ B $ training data points. You might use [modAL](https://modal-python.readthedocs.io/en/latest/index.html).\n",
    "    - The clustering-based sampling strategy clusters data points into $ B $ clusters using a clustering model, such as [k-means](https://scikit-learn.org/stable/modules/generated/sklearn.cluster.KMeans.html). It then samples and labels one data point per cluster.\n",
    "- Train 3 separate classification models on these 3 sets of sampled and labeled training data points. \n",
    "- Calculate and visualize the test performance curve of these models when the labeling budget $ B $ increases for any of these sampling strategies. \n",
    "- Check the documentation to identify the most important hyperparameters, attributes, and methods of the model. Use them in practice."
   ]
  },
  {
   "cell_type": "code",
   "execution_count": null,
   "id": "manual-female",
   "metadata": {},
   "outputs": [],
   "source": []
  }
 ],
 "metadata": {
  "kernelspec": {
   "display_name": "Python 3",
   "language": "python",
   "name": "python3"
  },
  "language_info": {
   "codemirror_mode": {
    "name": "ipython",
    "version": 3
   },
   "file_extension": ".py",
   "mimetype": "text/x-python",
   "name": "python",
   "nbconvert_exporter": "python",
   "pygments_lexer": "ipython3",
   "version": "3.8.5"
  }
 },
 "nbformat": 4,
 "nbformat_minor": 5
}
