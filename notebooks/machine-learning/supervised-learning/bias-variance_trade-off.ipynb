{
 "cells": [
  {
   "cell_type": "markdown",
   "id": "820b9137",
   "metadata": {},
   "source": [
    "# Bias-Variance Trade-Off\n",
    "You should build a machine learning pipeline to examine the effect of regularization on the bias-variance trade-off. In particular, you should do the following:\n",
    "- Load the `mnist` dataset using [Pandas](https://pandas.pydata.org/docs/reference/api/pandas.read_csv.html). You can find this dataset in the datasets folder.\n",
    "- Split the dataset into training and test sets using [Scikit-Learn](https://scikit-learn.org/stable/modules/generated/sklearn.model_selection.train_test_split.html). \n",
    "- Conduct data exploration, data preprocessing, and feature engineering if necessary. \n",
    "- Choose a model that is vulnerable to overfitting, such as [decision trees](https://scikit-learn.org/stable/modules/generated/sklearn.tree.DecisionTreeClassifier.html). \n",
    "- Choose a regularization hyperparameter of that model, such as the [max_depth](https://scikit-learn.org/stable/modules/generated/sklearn.tree.DecisionTreeClassifier.html) of decision trees.\n",
    "- Define a range for the regularization hyperparameter and repeat the following experiment:\n",
    "    - Change the value of the regularization hyperparameter within its range.\n",
    "    - Train your model with the current value of the regularization hyperparameter on your training set.\n",
    "    - Test your trained model on the test set.\n",
    "    - Save the train and test errors in different columns of a [data frame](https://pandas.pydata.org/docs/reference/api/pandas.DataFrame.html).\n",
    "- Draw a line chart to show how train and test errors of your model will change when the regularization hyperparameter increases. You can use [Plotly](https://plotly.com/python/line-charts/) for visualization.\n",
    "- Analyze the chart and explain the role of the regularization hyperparameter on the bias-variance trade-off.\n",
    "- Check the documentation of different machine learning models to identify their most important regularization hyperparameters."
   ]
  },
  {
   "cell_type": "code",
   "execution_count": null,
   "id": "12c0ac58",
   "metadata": {},
   "outputs": [],
   "source": []
  }
 ],
 "metadata": {
  "kernelspec": {
   "display_name": "Python 3",
   "language": "python",
   "name": "python3"
  },
  "language_info": {
   "codemirror_mode": {
    "name": "ipython",
    "version": 3
   },
   "file_extension": ".py",
   "mimetype": "text/x-python",
   "name": "python",
   "nbconvert_exporter": "python",
   "pygments_lexer": "ipython3",
   "version": "3.8.5"
  }
 },
 "nbformat": 4,
 "nbformat_minor": 5
}
