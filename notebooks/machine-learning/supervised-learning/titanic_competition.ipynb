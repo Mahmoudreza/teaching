{
 "cells": [
  {
   "cell_type": "markdown",
   "id": "korean-wednesday",
   "metadata": {},
   "source": [
    "# Titanic Competition\n",
    "You should build an end-to-end machine learning pipeline to predict survivors of the Titanic disaster and participate in the corresponding Kaggle competition. In particular, you should do the following:\n",
    "- Read the Titanic competition page on [Kaggle](https://www.kaggle.com/competitions/titanic/overview).\n",
    "- Load the `titanic` dataset using [Pandas](https://pandas.pydata.org/docs/reference/api/pandas.read_csv.html). You can find this dataset in the datasets folder.\n",
    "- Split the dataset into training and test sets using [Scikit-Learn](https://scikit-learn.org/stable/modules/generated/sklearn.model_selection.train_test_split.html).\n",
    "- Build an end-to-end machine learning pipeline, including all necessary steps, to have a running solution with some performance.\n",
    "- Collaborate with your groupmates to finalize your pipeline by\n",
    "    - reading the discussion forum to learn from other community members;\n",
    "    - discussing the bottlenecks of your current solution;\n",
    "    - running experiments on your pipeline;\n",
    "    - improving the performance of your pipeline.\n",
    "- Test the best pipeline on the test set and report various [evaluation metrics](https://scikit-learn.org/0.15/modules/model_evaluation.html).  \n",
    "- Present your pipeline.\n",
    "- Submit your predictions to Kaggle."
   ]
  },
  {
   "cell_type": "code",
   "execution_count": null,
   "id": "infrared-copper",
   "metadata": {},
   "outputs": [],
   "source": []
  }
 ],
 "metadata": {
  "kernelspec": {
   "display_name": "Python 3",
   "language": "python",
   "name": "python3"
  },
  "language_info": {
   "codemirror_mode": {
    "name": "ipython",
    "version": 3
   },
   "file_extension": ".py",
   "mimetype": "text/x-python",
   "name": "python",
   "nbconvert_exporter": "python",
   "pygments_lexer": "ipython3",
   "version": "3.8.5"
  }
 },
 "nbformat": 4,
 "nbformat_minor": 5
}
