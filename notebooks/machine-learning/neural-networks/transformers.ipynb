{
 "cells": [
  {
   "cell_type": "markdown",
   "id": "korean-wednesday",
   "metadata": {},
   "source": [
    "# Transformers\n",
    "You should build an end-to-end machine learning pipeline using a transformer model. In particular, you should do the following:\n",
    "- Load the `IMDB` dataset using [datasets](https://huggingface.co/docs/datasets/loading). You can find this dataset in the [Hugging Face repository](https://huggingface.co/docs/transformers/tasks/sequence_classification).\n",
    "- Build an end-to-end machine learning pipeline, including a [transformer](https://huggingface.co/docs/transformers/tasks/sequence_classification) model.\n",
    "- Optimize your pipeline by validating your design decisions. \n",
    "- Test the best pipeline on the test set and report various [evaluation metrics](https://scikit-learn.org/0.15/modules/model_evaluation.html).  \n",
    "- Check the documentation to identify the most important hyperparameters, attributes, and methods of the model. Use them in practice."
   ]
  },
  {
   "cell_type": "code",
   "execution_count": null,
   "id": "infrared-copper",
   "metadata": {},
   "outputs": [],
   "source": []
  }
 ],
 "metadata": {
  "kernelspec": {
   "display_name": "Python 3",
   "language": "python",
   "name": "python3"
  },
  "language_info": {
   "codemirror_mode": {
    "name": "ipython",
    "version": 3
   },
   "file_extension": ".py",
   "mimetype": "text/x-python",
   "name": "python",
   "nbconvert_exporter": "python",
   "pygments_lexer": "ipython3",
   "version": "3.8.5"
  }
 },
 "nbformat": 4,
 "nbformat_minor": 5
}
