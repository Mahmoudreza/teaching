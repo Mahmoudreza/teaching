{
 "cells": [
  {
   "cell_type": "markdown",
   "id": "f053a289",
   "metadata": {},
   "source": [
    "# Information Extraction\n",
    "You should extract keyphrases and named entities from unstructured texts using different approaches. In particular, you should do the following:\n",
    "- Suppose the given string variable is the content of your document.\n",
    "- Extract the keyphrases of your document using some unsupervised algorithms, such as `TextRank` and `SGRank`. The implementation of these algorithms can be found in [`textaCy`](https://textacy.readthedocs.io/en/0.12.0/api_reference/extract.html).\n",
    "- Recognize named entities of your document using pretrained models. These pretrained models can be found in [spaCy](https://spacy.io/usage/linguistic-features) and [Hugging Face Transformers](https://huggingface.co/docs/transformers/task_summary#named-entity-recognition).\n",
    "- Compare the result of different approaches. Analyze the effect of hyperparameters on the quality of results."
   ]
  },
  {
   "cell_type": "code",
   "execution_count": null,
   "id": "99221de9",
   "metadata": {},
   "outputs": [],
   "source": [
    "text = \"\"\"\n",
    "About GISMA Business School\n",
    "Since its foundation in 1999, GISMA Business School has paved the way for talented and qualified people to enter the international business world. Equipped with an interdisciplinary foundation and digital literacy, our graduates are able to pinpoint problem situations in companies of all sizes, start-ups or other organisations, and develop innovative solutions with commitment, motivation and creativity. With our goals in mind, we continue to expand and support students from all over the world to find their dream job and be successful.\n",
    "As a state-recognised university, GISMA Business School awards its own Bachelor's and Master's degrees. In addition, we enjoy the trust of some of the best universities in Europe to offer their degree programmes through GISMA.\n",
    "\n",
    "Our Mission\n",
    "GISMA educates individuals to become highly sought-after, leading members of the global business community. GISMA offers both traditional physical and modern virtual learning spaces that enable the acquisition of future-oriented competencies through state-of-the-art technology, an innovative and creative learning environment, and highly qualified staff. GISMA stands for practical and inspiring management education, where students learn from research-strong professors as well as top executives and founders. GISMA cooperates with a network of globally active organisations from business and education. It supports business and society by preparing students for management practice in a world characterised by permanent change, uncertainty, complexity and ambiguity. GISMA offers a learning environment characterised by a high degree of internationality.\n",
    "\"\"\""
   ]
  }
 ],
 "metadata": {
  "kernelspec": {
   "display_name": "Python 3 (ipykernel)",
   "language": "python",
   "name": "python3"
  },
  "language_info": {
   "codemirror_mode": {
    "name": "ipython",
    "version": 3
   },
   "file_extension": ".py",
   "mimetype": "text/x-python",
   "name": "python",
   "nbconvert_exporter": "python",
   "pygments_lexer": "ipython3",
   "version": "3.8.12"
  }
 },
 "nbformat": 4,
 "nbformat_minor": 5
}
