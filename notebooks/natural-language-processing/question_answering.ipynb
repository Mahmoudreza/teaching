{
 "cells": [
  {
   "cell_type": "markdown",
   "id": "f053a289",
   "metadata": {},
   "source": [
    "# Question Answering\n",
    "You should build an end-to-end NLP pipeline including a question answering model. In particular, you should do the following:\n",
    "- Download and load an annotated question answering dataset, such as [SQuAD](https://rajpurkar.github.io/SQuAD-explorer/). To speed up the pipeline, work with a small sample of the loaded dataset. \n",
    "- Split the dataset into training and test sets using [Scikit-Learn](https://scikit-learn.org/stable/modules/generated/sklearn.model_selection.train_test_split.html).\n",
    "- Build an end-to-end NLP pipeline, including a [question answering](https://simpletransformers.ai/docs/qa-model/) model. You can use [Simple Transformers](https://simpletransformers.ai/docs/qa-minimal-start/) to work with pre-trained transformer models (like BERT) and fine-tune them on your dataset at hand.\n",
    "- Optimize your pipeline by validating your design decisions. \n",
    "- Test the best pipeline on the test set and report various [evaluation metrics](https://scikit-learn.org/0.15/modules/model_evaluation.html).  \n",
    "- Check the documentation to identify the most important hyperparameters, attributes, and methods of the model. Use them in practice."
   ]
  },
  {
   "cell_type": "code",
   "execution_count": null,
   "id": "99221de9",
   "metadata": {},
   "outputs": [],
   "source": []
  }
 ],
 "metadata": {
  "kernelspec": {
   "display_name": "Python 3 (ipykernel)",
   "language": "python",
   "name": "python3"
  },
  "language_info": {
   "codemirror_mode": {
    "name": "ipython",
    "version": 3
   },
   "file_extension": ".py",
   "mimetype": "text/x-python",
   "name": "python",
   "nbconvert_exporter": "python",
   "pygments_lexer": "ipython3",
   "version": "3.8.12"
  }
 },
 "nbformat": 4,
 "nbformat_minor": 5
}
