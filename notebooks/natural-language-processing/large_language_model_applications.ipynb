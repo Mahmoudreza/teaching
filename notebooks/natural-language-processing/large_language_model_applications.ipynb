{
 "cells": [
  {
   "attachments": {},
   "cell_type": "markdown",
   "id": "f053a289",
   "metadata": {},
   "source": [
    "# Large Language Model Applications\n",
    "You should build an application with large language models. In particular, you should do the following:\n",
    "- Sign up for a large language model provider, such as an OpenAI, and [create a new secret key](https://platform.openai.com/account/api-keys) for your application.\n",
    "- Create a chatbot using [LangChain](https://python.langchain.com/en/latest/getting_started/getting_started.html).\n",
    "- Compare the result of different large language models. Analyze the effect of hyperparameters on the quality of results."
   ]
  },
  {
   "cell_type": "code",
   "execution_count": null,
   "id": "59a9dea4",
   "metadata": {},
   "outputs": [],
   "source": []
  }
 ],
 "metadata": {
  "kernelspec": {
   "display_name": "Python 3 (ipykernel)",
   "language": "python",
   "name": "python3"
  },
  "language_info": {
   "codemirror_mode": {
    "name": "ipython",
    "version": 3
   },
   "file_extension": ".py",
   "mimetype": "text/x-python",
   "name": "python",
   "nbconvert_exporter": "python",
   "pygments_lexer": "ipython3",
   "version": "3.8.12"
  }
 },
 "nbformat": 4,
 "nbformat_minor": 5
}
