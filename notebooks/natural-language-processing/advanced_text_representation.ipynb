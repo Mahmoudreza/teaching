{
 "cells": [
  {
   "cell_type": "markdown",
   "metadata": {},
   "source": [
    "# Advanced Text Representation\n",
    "You should build an NLP pipeline using a pretrained word embedding model. In particular, you should do the following:\n",
    "- Find a pretrained word embedding model, such as [Google's word2vec model](https://code.google.com/archive/p/word2vec/).\n",
    "- Load the pretrained word embedding model using a library, such as [gensim](https://radimrehurek.com/gensim/models/keyedvectors.html).\n",
    "- Examine the word vectors. For example, what is the most similar word to `Berlin`?\n",
    "- Visualize a sample of word vectors using necessary libraries, such as [Sklearn's t-SNE](https://scikit-learn.org/stable/modules/generated/sklearn.manifold.TSNE.html) and [Plotly](https://plotly.com/python/line-and-scatter/)."
   ]
  },
  {
   "cell_type": "code",
   "execution_count": null,
   "id": "ccd04d82",
   "metadata": {
    "vscode": {
     "languageId": "plaintext"
    }
   },
   "outputs": [],
   "source": []
  }
 ],
 "metadata": {
  "kernelspec": {
   "display_name": "Python 3 (ipykernel)",
   "language": "python",
   "name": "python3"
  },
  "language_info": {
   "codemirror_mode": {
    "name": "ipython",
    "version": 3
   },
   "file_extension": ".py",
   "mimetype": "text/x-python",
   "name": "python",
   "nbconvert_exporter": "python",
   "pygments_lexer": "ipython3",
   "version": "3.8.11"
  }
 },
 "nbformat": 4,
 "nbformat_minor": 5
}
